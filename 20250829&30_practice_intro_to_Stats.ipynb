{
 "cells": [
  {
   "cell_type": "markdown",
   "id": "a97fabf0",
   "metadata": {},
   "source": [
    "## Practicing Intro to Statistics"
   ]
  },
  {
   "cell_type": "markdown",
   "id": "e8c23fea",
   "metadata": {},
   "source": [
    "### Practicing on August 29th, 2025"
   ]
  },
  {
   "cell_type": "markdown",
   "id": "a0dcc44f",
   "metadata": {},
   "source": [
    "### Loading Packages"
   ]
  },
  {
   "cell_type": "code",
   "execution_count": 19,
   "id": "ec210f50",
   "metadata": {},
   "outputs": [],
   "source": [
    "import pandas as pd\n",
    "import numpy as np\n",
    "import matplotlib.pyplot as plt\n",
    "import seaborn as sns"
   ]
  },
  {
   "cell_type": "markdown",
   "id": "da476b13",
   "metadata": {},
   "source": [
    "### Loading Zara Dataset"
   ]
  },
  {
   "cell_type": "code",
   "execution_count": 20,
   "id": "856ba600",
   "metadata": {},
   "outputs": [],
   "source": [
    "fashion_trend = pd.read_csv(\"/Users/auroraxiao/Desktop/Data Science Project/DS-Projects/Data Set/fashion_data_2018_2022.csv\")\n"
   ]
  },
  {
   "cell_type": "code",
   "execution_count": 21,
   "id": "e0debd68",
   "metadata": {},
   "outputs": [
    {
     "data": {
      "text/html": [
       "<div>\n",
       "<style scoped>\n",
       "    .dataframe tbody tr th:only-of-type {\n",
       "        vertical-align: middle;\n",
       "    }\n",
       "\n",
       "    .dataframe tbody tr th {\n",
       "        vertical-align: top;\n",
       "    }\n",
       "\n",
       "    .dataframe thead th {\n",
       "        text-align: right;\n",
       "    }\n",
       "</style>\n",
       "<table border=\"1\" class=\"dataframe\">\n",
       "  <thead>\n",
       "    <tr style=\"text-align: right;\">\n",
       "      <th></th>\n",
       "      <th>product_id</th>\n",
       "      <th>product_name</th>\n",
       "      <th>gender</th>\n",
       "      <th>category</th>\n",
       "      <th>pattern</th>\n",
       "      <th>color</th>\n",
       "      <th>age_group</th>\n",
       "      <th>season</th>\n",
       "      <th>price</th>\n",
       "      <th>material</th>\n",
       "      <th>sales_count</th>\n",
       "      <th>reviews_count</th>\n",
       "      <th>average_rating</th>\n",
       "      <th>out_of_stock_times</th>\n",
       "      <th>brand</th>\n",
       "      <th>discount</th>\n",
       "      <th>last_stock_date</th>\n",
       "      <th>wish_list_count</th>\n",
       "      <th>month_of_sale</th>\n",
       "      <th>year_of_sale</th>\n",
       "    </tr>\n",
       "  </thead>\n",
       "  <tbody>\n",
       "    <tr>\n",
       "      <th>0</th>\n",
       "      <td>1001</td>\n",
       "      <td>Biker Jacket</td>\n",
       "      <td>Male</td>\n",
       "      <td>Shirt</td>\n",
       "      <td>Geometric</td>\n",
       "      <td>White</td>\n",
       "      <td>25-35</td>\n",
       "      <td>Spring</td>\n",
       "      <td>70.36</td>\n",
       "      <td>Synthetic</td>\n",
       "      <td>75</td>\n",
       "      <td>65</td>\n",
       "      <td>4.9</td>\n",
       "      <td>3</td>\n",
       "      <td>ZARA</td>\n",
       "      <td>20%</td>\n",
       "      <td>1/28/18</td>\n",
       "      <td>211</td>\n",
       "      <td>1</td>\n",
       "      <td>2018</td>\n",
       "    </tr>\n",
       "    <tr>\n",
       "      <th>1</th>\n",
       "      <td>1002</td>\n",
       "      <td>Business Shirt</td>\n",
       "      <td>Male</td>\n",
       "      <td>Jacket</td>\n",
       "      <td>Polka Dots</td>\n",
       "      <td>Beige</td>\n",
       "      <td>18-24</td>\n",
       "      <td>Summer</td>\n",
       "      <td>91.59</td>\n",
       "      <td>Wool</td>\n",
       "      <td>296</td>\n",
       "      <td>25</td>\n",
       "      <td>3.5</td>\n",
       "      <td>6</td>\n",
       "      <td>ZARA</td>\n",
       "      <td>0%</td>\n",
       "      <td>1/28/18</td>\n",
       "      <td>211</td>\n",
       "      <td>1</td>\n",
       "      <td>2018</td>\n",
       "    </tr>\n",
       "    <tr>\n",
       "      <th>2</th>\n",
       "      <td>1003</td>\n",
       "      <td>Wool Jacket</td>\n",
       "      <td>Female</td>\n",
       "      <td>Dress</td>\n",
       "      <td>Geometric</td>\n",
       "      <td>Brown</td>\n",
       "      <td>18-24</td>\n",
       "      <td>All</td>\n",
       "      <td>129.52</td>\n",
       "      <td>Wool</td>\n",
       "      <td>50</td>\n",
       "      <td>32</td>\n",
       "      <td>4.3</td>\n",
       "      <td>4</td>\n",
       "      <td>ZARA</td>\n",
       "      <td>5%</td>\n",
       "      <td>1/7/18</td>\n",
       "      <td>64</td>\n",
       "      <td>1</td>\n",
       "      <td>2018</td>\n",
       "    </tr>\n",
       "    <tr>\n",
       "      <th>3</th>\n",
       "      <td>1004</td>\n",
       "      <td>Summer Dress</td>\n",
       "      <td>Male</td>\n",
       "      <td>Shorts</td>\n",
       "      <td>Plain</td>\n",
       "      <td>White</td>\n",
       "      <td>25-35</td>\n",
       "      <td>All</td>\n",
       "      <td>116.01</td>\n",
       "      <td>Cotton</td>\n",
       "      <td>435</td>\n",
       "      <td>73</td>\n",
       "      <td>4.6</td>\n",
       "      <td>3</td>\n",
       "      <td>ZARA</td>\n",
       "      <td>10%</td>\n",
       "      <td>1/1/18</td>\n",
       "      <td>171</td>\n",
       "      <td>1</td>\n",
       "      <td>2018</td>\n",
       "    </tr>\n",
       "    <tr>\n",
       "      <th>4</th>\n",
       "      <td>1005</td>\n",
       "      <td>Casual Jeans</td>\n",
       "      <td>Male</td>\n",
       "      <td>Shirt</td>\n",
       "      <td>Plain</td>\n",
       "      <td>Beige</td>\n",
       "      <td>35-45</td>\n",
       "      <td>Winter</td>\n",
       "      <td>125.48</td>\n",
       "      <td>Viscose</td>\n",
       "      <td>79</td>\n",
       "      <td>36</td>\n",
       "      <td>3.6</td>\n",
       "      <td>4</td>\n",
       "      <td>ZARA</td>\n",
       "      <td>0%</td>\n",
       "      <td>1/28/18</td>\n",
       "      <td>126</td>\n",
       "      <td>1</td>\n",
       "      <td>2018</td>\n",
       "    </tr>\n",
       "  </tbody>\n",
       "</table>\n",
       "</div>"
      ],
      "text/plain": [
       "   product_id    product_name  gender category     pattern  color age_group  \\\n",
       "0        1001    Biker Jacket    Male    Shirt   Geometric  White     25-35   \n",
       "1        1002  Business Shirt    Male   Jacket  Polka Dots  Beige     18-24   \n",
       "2        1003     Wool Jacket  Female    Dress   Geometric  Brown     18-24   \n",
       "3        1004    Summer Dress    Male   Shorts       Plain  White     25-35   \n",
       "4        1005    Casual Jeans    Male    Shirt       Plain  Beige     35-45   \n",
       "\n",
       "   season   price   material  sales_count  reviews_count  average_rating  \\\n",
       "0  Spring   70.36  Synthetic           75             65             4.9   \n",
       "1  Summer   91.59       Wool          296             25             3.5   \n",
       "2     All  129.52       Wool           50             32             4.3   \n",
       "3     All  116.01     Cotton          435             73             4.6   \n",
       "4  Winter  125.48    Viscose           79             36             3.6   \n",
       "\n",
       "   out_of_stock_times brand discount last_stock_date  wish_list_count  \\\n",
       "0                   3  ZARA      20%         1/28/18              211   \n",
       "1                   6  ZARA       0%         1/28/18              211   \n",
       "2                   4  ZARA       5%          1/7/18               64   \n",
       "3                   3  ZARA      10%          1/1/18              171   \n",
       "4                   4  ZARA       0%         1/28/18              126   \n",
       "\n",
       "   month_of_sale  year_of_sale  \n",
       "0              1          2018  \n",
       "1              1          2018  \n",
       "2              1          2018  \n",
       "3              1          2018  \n",
       "4              1          2018  "
      ]
     },
     "execution_count": 21,
     "metadata": {},
     "output_type": "execute_result"
    }
   ],
   "source": [
    "fashion_trend.head()"
   ]
  },
  {
   "cell_type": "code",
   "execution_count": 22,
   "id": "edb5b08f",
   "metadata": {},
   "outputs": [
    {
     "name": "stdout",
     "output_type": "stream",
     "text": [
      "<class 'pandas.core.frame.DataFrame'>\n",
      "RangeIndex: 660 entries, 0 to 659\n",
      "Data columns (total 20 columns):\n",
      " #   Column              Non-Null Count  Dtype  \n",
      "---  ------              --------------  -----  \n",
      " 0   product_id          660 non-null    int64  \n",
      " 1   product_name        660 non-null    object \n",
      " 2   gender              660 non-null    object \n",
      " 3   category            660 non-null    object \n",
      " 4   pattern             660 non-null    object \n",
      " 5   color               660 non-null    object \n",
      " 6   age_group           660 non-null    object \n",
      " 7   season              660 non-null    object \n",
      " 8   price               660 non-null    float64\n",
      " 9   material            660 non-null    object \n",
      " 10  sales_count         660 non-null    int64  \n",
      " 11  reviews_count       660 non-null    int64  \n",
      " 12  average_rating      660 non-null    float64\n",
      " 13  out_of_stock_times  660 non-null    int64  \n",
      " 14  brand               660 non-null    object \n",
      " 15  discount            660 non-null    object \n",
      " 16  last_stock_date     660 non-null    object \n",
      " 17  wish_list_count     660 non-null    int64  \n",
      " 18  month_of_sale       660 non-null    int64  \n",
      " 19  year_of_sale        660 non-null    int64  \n",
      "dtypes: float64(2), int64(7), object(11)\n",
      "memory usage: 103.3+ KB\n",
      "None\n",
      "        product_id       price  sales_count  reviews_count  average_rating  \\\n",
      "count   660.000000  660.000000    660.00000     660.000000      660.000000   \n",
      "mean   1330.500000   84.967939    265.55303      62.156061        4.016212   \n",
      "std     190.669872   37.622893    132.32956      23.564812        0.550895   \n",
      "min    1001.000000   20.250000     50.00000      20.000000        3.000000   \n",
      "25%    1165.750000   53.197500    149.00000      42.000000        3.600000   \n",
      "50%    1330.500000   82.040000    257.00000      63.000000        4.000000   \n",
      "75%    1495.250000  117.770000    378.50000      83.250000        4.500000   \n",
      "max    1660.000000  149.930000    500.00000     100.000000        5.000000   \n",
      "\n",
      "       out_of_stock_times  wish_list_count  month_of_sale  year_of_sale  \n",
      "count          660.000000       660.000000     660.000000    660.000000  \n",
      "mean             3.534848       151.683333       6.500000   2020.000000  \n",
      "std              1.705209        57.430499       3.454671      1.415286  \n",
      "min              1.000000        50.000000       1.000000   2018.000000  \n",
      "25%              2.000000        99.000000       3.750000   2019.000000  \n",
      "50%              4.000000       151.000000       6.500000   2020.000000  \n",
      "75%              5.000000       203.000000       9.250000   2021.000000  \n",
      "max              6.000000       250.000000      12.000000   2022.000000  \n",
      "(660, 20)\n"
     ]
    }
   ],
   "source": [
    "print(fashion_trend.info())\n",
    "print(fashion_trend.describe())\n",
    "print(fashion_trend.shape)"
   ]
  },
  {
   "cell_type": "code",
   "execution_count": 23,
   "id": "1d3f6e81",
   "metadata": {},
   "outputs": [
    {
     "data": {
      "text/plain": [
       "brand\n",
       "ZARA    660\n",
       "Name: count, dtype: int64"
      ]
     },
     "execution_count": 23,
     "metadata": {},
     "output_type": "execute_result"
    }
   ],
   "source": [
    "fashion_trend[\"brand\"].value_counts()"
   ]
  },
  {
   "cell_type": "code",
   "execution_count": 24,
   "id": "100edeec",
   "metadata": {},
   "outputs": [
    {
     "data": {
      "text/plain": [
       "category\n",
       "Skirt     99\n",
       "Dress     86\n",
       "Blouse    82\n",
       "Shorts    82\n",
       "Shoes     82\n",
       "Shirt     78\n",
       "Jeans     78\n",
       "Jacket    73\n",
       "Name: count, dtype: int64"
      ]
     },
     "execution_count": 24,
     "metadata": {},
     "output_type": "execute_result"
    }
   ],
   "source": [
    "fashion_trend[\"category\"].value_counts()"
   ]
  },
  {
   "cell_type": "code",
   "execution_count": 25,
   "id": "5b4dfd62",
   "metadata": {},
   "outputs": [
    {
     "data": {
      "image/png": "[encoded data removed]",
      "text/plain": [
       "<Figure size 640x480 with 1 Axes>"
      ]
     },
     "metadata": {},
     "output_type": "display_data"
    }
   ],
   "source": [
    "fashion_trend[\"price\"].hist(bins=50)\n",
    "plt.show()"
   ]
  },
  {
   "cell_type": "code",
   "execution_count": 26,
   "id": "51e28458",
   "metadata": {},
   "outputs": [
    {
     "data": {
      "text/plain": [
       "category\n",
       "Blouse    86.708415\n",
       "Dress     87.220581\n",
       "Jacket    87.479589\n",
       "Jeans     82.000513\n",
       "Shirt     86.945641\n",
       "Shoes     81.693415\n",
       "Shorts    88.018659\n",
       "Skirt     80.682626\n",
       "Name: price, dtype: float64"
      ]
     },
     "execution_count": 26,
     "metadata": {},
     "output_type": "execute_result"
    }
   ],
   "source": [
    "### what is the average price of items in each category?\n",
    "fashion_trend.groupby(\"category\")[\"price\"].agg('mean')"
   ]
  },
  {
   "cell_type": "code",
   "execution_count": 27,
   "id": "a8bb22ad",
   "metadata": {},
   "outputs": [
    {
     "data": {
      "text/plain": [
       "<Figure size 1000x600 with 0 Axes>"
      ]
     },
     "metadata": {},
     "output_type": "display_data"
    },
    {
     "data": {
      "image/png": "[encoded data removed]",
      "text/plain": [
       "<Figure size 640x480 with 1 Axes>"
      ]
     },
     "metadata": {},
     "output_type": "display_data"
    }
   ],
   "source": [
    "## if i would like to refine my code from above and add a graph \n",
    "\n",
    "avg_price_by_category = fashion_trend.groupby(\"category\")[\"price\"].agg(['mean']).round(2)\n",
    "\n",
    "\n",
    "plt.figure(figsize=(10, 6))\n",
    "avg_price_by_category.plot(kind='bar')\n",
    "plt.title('Average Price by Category')\n",
    "plt.xlabel('Category')\n",
    "plt.ylabel('Average Price')\n",
    "plt.xticks(rotation=45)\n",
    "plt.grid(True, alpha=0.3)\n",
    "plt.show()"
   ]
  },
  {
   "cell_type": "code",
   "execution_count": 28,
   "id": "3a96d6fa",
   "metadata": {},
   "outputs": [
    {
     "data": {
      "text/plain": [
       "category\n",
       "Skirt     99\n",
       "Dress     86\n",
       "Blouse    82\n",
       "Shorts    82\n",
       "Shoes     82\n",
       "Shirt     78\n",
       "Jeans     78\n",
       "Jacket    73\n",
       "Name: count, dtype: int64"
      ]
     },
     "execution_count": 28,
     "metadata": {},
     "output_type": "execute_result"
    }
   ],
   "source": [
    "fashion_trend[\"category\"].value_counts(sort = True)"
   ]
  },
  {
   "cell_type": "code",
   "execution_count": 29,
   "id": "ba64087a",
   "metadata": {},
   "outputs": [
    {
     "data": {
      "text/plain": [
       "np.False_"
      ]
     },
     "execution_count": 29,
     "metadata": {},
     "output_type": "execute_result"
    }
   ],
   "source": [
    "### check the duplication of product_id\n",
    "fashion_trend['product_id'].duplicated().any()\n",
    "## thereffre, there are no duplicated product_id in the dataset     "
   ]
  },
  {
   "cell_type": "markdown",
   "id": "fa530d06",
   "metadata": {},
   "source": [
    "### Practicing Varaince, Standard Deviation, and Mean Absolute Deviation based on fashion_trends price to the avg price of all products\n"
   ]
  },
  {
   "cell_type": "code",
   "execution_count": 30,
   "id": "2d7c73c2",
   "metadata": {},
   "outputs": [
    {
     "data": {
      "text/plain": [
       "np.float64(1413.337395147842)"
      ]
     },
     "execution_count": 30,
     "metadata": {},
     "output_type": "execute_result"
    }
   ],
   "source": [
    "### Variance\n",
    "np.var(fashion_trend[\"price\"])"
   ]
  },
  {
   "cell_type": "code",
   "execution_count": 31,
   "id": "aad62bff",
   "metadata": {},
   "outputs": [
    {
     "data": {
      "text/plain": [
       "np.float64(1413.337395147842)"
      ]
     },
     "execution_count": 31,
     "metadata": {},
     "output_type": "execute_result"
    }
   ],
   "source": [
    "### Variance step by step\n",
    "\n",
    "### calculate the mean of the price column\n",
    "\n",
    "mean_price = np.mean(fashion_trend[\"price\"])\n",
    "diff_from_mean = fashion_trend[\"price\"] - mean_price\n",
    "squared_diff = diff_from_mean ** 2\n",
    "variance_price = np.mean(squared_diff)\n",
    "variance_price"
   ]
  },
  {
   "cell_type": "code",
   "execution_count": 32,
   "id": "21e00600",
   "metadata": {},
   "outputs": [
    {
     "data": {
      "text/plain": [
       "np.float64(37.594379834595514)"
      ]
     },
     "execution_count": 32,
     "metadata": {},
     "output_type": "execute_result"
    }
   ],
   "source": [
    "### Standard Deviation\n",
    "np.std(fashion_trend[\"price\"])"
   ]
  },
  {
   "cell_type": "code",
   "execution_count": 33,
   "id": "ba913045",
   "metadata": {},
   "outputs": [
    {
     "data": {
      "text/plain": [
       "np.float64(37.594379834595514)"
      ]
     },
     "execution_count": 33,
     "metadata": {},
     "output_type": "execute_result"
    }
   ],
   "source": [
    "### Standard Deviation Step by Step from Variance\n",
    "np.sqrt(variance_price)"
   ]
  },
  {
   "cell_type": "code",
   "execution_count": 34,
   "id": "0bcba242",
   "metadata": {},
   "outputs": [
    {
     "data": {
      "text/plain": [
       "np.float64(32.491239669421496)"
      ]
     },
     "execution_count": 34,
     "metadata": {},
     "output_type": "execute_result"
    }
   ],
   "source": [
    "### Mean Absolute Deviation\n",
    "np.mean(np.abs(diff_from_mean))"
   ]
  },
  {
   "cell_type": "markdown",
   "id": "ed6271c6",
   "metadata": {},
   "source": [
    "### practicing quantile"
   ]
  },
  {
   "cell_type": "code",
   "execution_count": 35,
   "id": "2c70d411",
   "metadata": {},
   "outputs": [
    {
     "data": {
      "text/plain": [
       "array([ 20.25  ,  53.1975,  82.04  , 117.77  , 149.93  ])"
      ]
     },
     "execution_count": 35,
     "metadata": {},
     "output_type": "execute_result"
    }
   ],
   "source": [
    "np.quantile(fashion_trend[\"price\"], [0, 0.25, 0.5, 0.75, 1])"
   ]
  },
  {
   "cell_type": "code",
   "execution_count": 36,
   "id": "9d8e78cc",
   "metadata": {},
   "outputs": [
    {
     "data": {
      "image/png": "[encoded data removed]",
      "text/plain": [
       "<Figure size 640x480 with 1 Axes>"
      ]
     },
     "metadata": {},
     "output_type": "display_data"
    }
   ],
   "source": [
    "plt.boxplot(fashion_trend[\"price\"])\n",
    "plt.title(\"Boxplot of Price\")\n",
    "plt.show()"
   ]
  },
  {
   "cell_type": "code",
   "execution_count": 37,
   "id": "269692e5",
   "metadata": {},
   "outputs": [],
   "source": [
    "from scipy.stats import iqr\n",
    "iqr_value = iqr(fashion_trend[\"price\"])"
   ]
  },
  {
   "cell_type": "code",
   "execution_count": 38,
   "id": "9a4706e9",
   "metadata": {},
   "outputs": [
    {
     "data": {
      "text/plain": [
       "np.float64(64.57249999999999)"
      ]
     },
     "execution_count": 38,
     "metadata": {},
     "output_type": "execute_result"
    }
   ],
   "source": [
    "iqr_value"
   ]
  },
  {
   "cell_type": "markdown",
   "id": "7f57d8ca",
   "metadata": {},
   "source": [
    "### Practicing Sampling"
   ]
  },
  {
   "cell_type": "markdown",
   "id": "afd2e8f4",
   "metadata": {},
   "source": [
    "Sampling\n",
    "\n",
    "You have a dataset of 1000 customer IDs in a pandas DataFrame.\n",
    "\n",
    "(a) Use .sample() to select 10 random customers.\n",
    "\n",
    "(b) How would you make sure the sampling is reproducible?\n",
    "\n",
    "(c) How would you select 20% of the dataset randomly?"
   ]
  },
  {
   "cell_type": "code",
   "execution_count": 41,
   "id": "14fc65a2",
   "metadata": {},
   "outputs": [
    {
     "name": "stdout",
     "output_type": "stream",
     "text": [
      "   CustomerID        Name  Age  Country SignupDate  Spending\n",
      "0           1  Customer_1   56       UK 2023-05-24      2010\n",
      "1           2  Customer_2   69       UK 2023-06-28      3704\n",
      "2           3  Customer_3   46      USA 2020-05-05       769\n",
      "3           4  Customer_4   32   France 2020-08-04      4464\n",
      "4           5  Customer_5   60  Germany 2023-08-22      1383\n",
      "(1000, 6)\n"
     ]
    }
   ],
   "source": [
    "## first generate a customer dataset\n",
    "\n",
    "# Set random seed for reproducibility\n",
    "np.random.seed(42)\n",
    "\n",
    "# Number of rows\n",
    "n = 1000\n",
    "\n",
    "# Generate synthetic customer dataset\n",
    "df = pd.DataFrame({\n",
    "    \"CustomerID\": range(1, n+1),\n",
    "    \"Name\": [f\"Customer_{i}\" for i in range(1, n+1)],\n",
    "    \"Age\": np.random.randint(18, 70, size=n),\n",
    "    \"Country\": np.random.choice([\"USA\", \"Canada\", \"UK\", \"Germany\", \"France\"], size=n),\n",
    "    \"SignupDate\": pd.to_datetime(\n",
    "        np.random.choice(pd.date_range(\"2020-01-01\", \"2023-12-31\"), size=n)\n",
    "    ),\n",
    "    \"Spending\": np.random.randint(100, 5000, size=n)  # in USD\n",
    "})\n",
    "\n",
    "print(df.head())\n",
    "print(df.shape)"
   ]
  },
  {
   "cell_type": "code",
   "execution_count": 42,
   "id": "0fb9ccf3",
   "metadata": {},
   "outputs": [
    {
     "data": {
      "text/html": [
       "<div>\n",
       "<style scoped>\n",
       "    .dataframe tbody tr th:only-of-type {\n",
       "        vertical-align: middle;\n",
       "    }\n",
       "\n",
       "    .dataframe tbody tr th {\n",
       "        vertical-align: top;\n",
       "    }\n",
       "\n",
       "    .dataframe thead th {\n",
       "        text-align: right;\n",
       "    }\n",
       "</style>\n",
       "<table border=\"1\" class=\"dataframe\">\n",
       "  <thead>\n",
       "    <tr style=\"text-align: right;\">\n",
       "      <th></th>\n",
       "      <th>CustomerID</th>\n",
       "      <th>Name</th>\n",
       "      <th>Age</th>\n",
       "      <th>Country</th>\n",
       "      <th>SignupDate</th>\n",
       "      <th>Spending</th>\n",
       "    </tr>\n",
       "  </thead>\n",
       "  <tbody>\n",
       "    <tr>\n",
       "      <th>565</th>\n",
       "      <td>566</td>\n",
       "      <td>Customer_566</td>\n",
       "      <td>29</td>\n",
       "      <td>France</td>\n",
       "      <td>2020-12-25</td>\n",
       "      <td>1328</td>\n",
       "    </tr>\n",
       "    <tr>\n",
       "      <th>237</th>\n",
       "      <td>238</td>\n",
       "      <td>Customer_238</td>\n",
       "      <td>19</td>\n",
       "      <td>USA</td>\n",
       "      <td>2023-04-05</td>\n",
       "      <td>3439</td>\n",
       "    </tr>\n",
       "    <tr>\n",
       "      <th>981</th>\n",
       "      <td>982</td>\n",
       "      <td>Customer_982</td>\n",
       "      <td>45</td>\n",
       "      <td>USA</td>\n",
       "      <td>2020-08-07</td>\n",
       "      <td>3651</td>\n",
       "    </tr>\n",
       "    <tr>\n",
       "      <th>887</th>\n",
       "      <td>888</td>\n",
       "      <td>Customer_888</td>\n",
       "      <td>47</td>\n",
       "      <td>France</td>\n",
       "      <td>2021-02-26</td>\n",
       "      <td>2735</td>\n",
       "    </tr>\n",
       "    <tr>\n",
       "      <th>22</th>\n",
       "      <td>23</td>\n",
       "      <td>Customer_23</td>\n",
       "      <td>55</td>\n",
       "      <td>Canada</td>\n",
       "      <td>2022-10-28</td>\n",
       "      <td>745</td>\n",
       "    </tr>\n",
       "    <tr>\n",
       "      <th>544</th>\n",
       "      <td>545</td>\n",
       "      <td>Customer_545</td>\n",
       "      <td>22</td>\n",
       "      <td>France</td>\n",
       "      <td>2023-06-05</td>\n",
       "      <td>1150</td>\n",
       "    </tr>\n",
       "    <tr>\n",
       "      <th>922</th>\n",
       "      <td>923</td>\n",
       "      <td>Customer_923</td>\n",
       "      <td>33</td>\n",
       "      <td>Germany</td>\n",
       "      <td>2021-01-10</td>\n",
       "      <td>4173</td>\n",
       "    </tr>\n",
       "    <tr>\n",
       "      <th>349</th>\n",
       "      <td>350</td>\n",
       "      <td>Customer_350</td>\n",
       "      <td>39</td>\n",
       "      <td>UK</td>\n",
       "      <td>2021-07-14</td>\n",
       "      <td>3515</td>\n",
       "    </tr>\n",
       "    <tr>\n",
       "      <th>430</th>\n",
       "      <td>431</td>\n",
       "      <td>Customer_431</td>\n",
       "      <td>53</td>\n",
       "      <td>USA</td>\n",
       "      <td>2021-02-03</td>\n",
       "      <td>1076</td>\n",
       "    </tr>\n",
       "    <tr>\n",
       "      <th>404</th>\n",
       "      <td>405</td>\n",
       "      <td>Customer_405</td>\n",
       "      <td>67</td>\n",
       "      <td>France</td>\n",
       "      <td>2020-02-12</td>\n",
       "      <td>2251</td>\n",
       "    </tr>\n",
       "  </tbody>\n",
       "</table>\n",
       "</div>"
      ],
      "text/plain": [
       "     CustomerID          Name  Age  Country SignupDate  Spending\n",
       "565         566  Customer_566   29   France 2020-12-25      1328\n",
       "237         238  Customer_238   19      USA 2023-04-05      3439\n",
       "981         982  Customer_982   45      USA 2020-08-07      3651\n",
       "887         888  Customer_888   47   France 2021-02-26      2735\n",
       "22           23   Customer_23   55   Canada 2022-10-28       745\n",
       "544         545  Customer_545   22   France 2023-06-05      1150\n",
       "922         923  Customer_923   33  Germany 2021-01-10      4173\n",
       "349         350  Customer_350   39       UK 2021-07-14      3515\n",
       "430         431  Customer_431   53      USA 2021-02-03      1076\n",
       "404         405  Customer_405   67   France 2020-02-12      2251"
      ]
     },
     "execution_count": 42,
     "metadata": {},
     "output_type": "execute_result"
    }
   ],
   "source": [
    "### use .sample() to take a random sample of 10 customer\n",
    "df.sample(n= 10)"
   ]
  },
  {
   "cell_type": "markdown",
   "id": "b98c956f",
   "metadata": {},
   "source": [
    "### How to make sure the results/sample is reproduciable?"
   ]
  },
  {
   "cell_type": "code",
   "execution_count": 44,
   "id": "cb38c74f",
   "metadata": {},
   "outputs": [
    {
     "data": {
      "text/html": [
       "<div>\n",
       "<style scoped>\n",
       "    .dataframe tbody tr th:only-of-type {\n",
       "        vertical-align: middle;\n",
       "    }\n",
       "\n",
       "    .dataframe tbody tr th {\n",
       "        vertical-align: top;\n",
       "    }\n",
       "\n",
       "    .dataframe thead th {\n",
       "        text-align: right;\n",
       "    }\n",
       "</style>\n",
       "<table border=\"1\" class=\"dataframe\">\n",
       "  <thead>\n",
       "    <tr style=\"text-align: right;\">\n",
       "      <th></th>\n",
       "      <th>CustomerID</th>\n",
       "      <th>Name</th>\n",
       "      <th>Age</th>\n",
       "      <th>Country</th>\n",
       "      <th>SignupDate</th>\n",
       "      <th>Spending</th>\n",
       "    </tr>\n",
       "  </thead>\n",
       "  <tbody>\n",
       "    <tr>\n",
       "      <th>858</th>\n",
       "      <td>859</td>\n",
       "      <td>Customer_859</td>\n",
       "      <td>56</td>\n",
       "      <td>Germany</td>\n",
       "      <td>2023-08-29</td>\n",
       "      <td>3530</td>\n",
       "    </tr>\n",
       "    <tr>\n",
       "      <th>986</th>\n",
       "      <td>987</td>\n",
       "      <td>Customer_987</td>\n",
       "      <td>62</td>\n",
       "      <td>USA</td>\n",
       "      <td>2022-07-16</td>\n",
       "      <td>4007</td>\n",
       "    </tr>\n",
       "    <tr>\n",
       "      <th>183</th>\n",
       "      <td>184</td>\n",
       "      <td>Customer_184</td>\n",
       "      <td>45</td>\n",
       "      <td>Canada</td>\n",
       "      <td>2023-07-24</td>\n",
       "      <td>4105</td>\n",
       "    </tr>\n",
       "    <tr>\n",
       "      <th>502</th>\n",
       "      <td>503</td>\n",
       "      <td>Customer_503</td>\n",
       "      <td>22</td>\n",
       "      <td>Germany</td>\n",
       "      <td>2020-05-08</td>\n",
       "      <td>3058</td>\n",
       "    </tr>\n",
       "    <tr>\n",
       "      <th>710</th>\n",
       "      <td>711</td>\n",
       "      <td>Customer_711</td>\n",
       "      <td>56</td>\n",
       "      <td>UK</td>\n",
       "      <td>2023-03-23</td>\n",
       "      <td>3130</td>\n",
       "    </tr>\n",
       "    <tr>\n",
       "      <th>692</th>\n",
       "      <td>693</td>\n",
       "      <td>Customer_693</td>\n",
       "      <td>55</td>\n",
       "      <td>Germany</td>\n",
       "      <td>2022-11-03</td>\n",
       "      <td>4163</td>\n",
       "    </tr>\n",
       "    <tr>\n",
       "      <th>604</th>\n",
       "      <td>605</td>\n",
       "      <td>Customer_605</td>\n",
       "      <td>54</td>\n",
       "      <td>UK</td>\n",
       "      <td>2021-02-17</td>\n",
       "      <td>622</td>\n",
       "    </tr>\n",
       "    <tr>\n",
       "      <th>653</th>\n",
       "      <td>654</td>\n",
       "      <td>Customer_654</td>\n",
       "      <td>29</td>\n",
       "      <td>France</td>\n",
       "      <td>2020-01-23</td>\n",
       "      <td>2200</td>\n",
       "    </tr>\n",
       "    <tr>\n",
       "      <th>447</th>\n",
       "      <td>448</td>\n",
       "      <td>Customer_448</td>\n",
       "      <td>39</td>\n",
       "      <td>Germany</td>\n",
       "      <td>2021-04-27</td>\n",
       "      <td>2908</td>\n",
       "    </tr>\n",
       "    <tr>\n",
       "      <th>884</th>\n",
       "      <td>885</td>\n",
       "      <td>Customer_885</td>\n",
       "      <td>67</td>\n",
       "      <td>USA</td>\n",
       "      <td>2020-01-28</td>\n",
       "      <td>4846</td>\n",
       "    </tr>\n",
       "  </tbody>\n",
       "</table>\n",
       "</div>"
      ],
      "text/plain": [
       "     CustomerID          Name  Age  Country SignupDate  Spending\n",
       "858         859  Customer_859   56  Germany 2023-08-29      3530\n",
       "986         987  Customer_987   62      USA 2022-07-16      4007\n",
       "183         184  Customer_184   45   Canada 2023-07-24      4105\n",
       "502         503  Customer_503   22  Germany 2020-05-08      3058\n",
       "710         711  Customer_711   56       UK 2023-03-23      3130\n",
       "692         693  Customer_693   55  Germany 2022-11-03      4163\n",
       "604         605  Customer_605   54       UK 2021-02-17       622\n",
       "653         654  Customer_654   29   France 2020-01-23      2200\n",
       "447         448  Customer_448   39  Germany 2021-04-27      2908\n",
       "884         885  Customer_885   67      USA 2020-01-28      4846"
      ]
     },
     "execution_count": 44,
     "metadata": {},
     "output_type": "execute_result"
    }
   ],
   "source": [
    "np.random.seed(43)\n",
    "df.sample(n= 10)"
   ]
  },
  {
   "cell_type": "code",
   "execution_count": 45,
   "id": "2442df34",
   "metadata": {},
   "outputs": [
    {
     "data": {
      "text/html": [
       "<div>\n",
       "<style scoped>\n",
       "    .dataframe tbody tr th:only-of-type {\n",
       "        vertical-align: middle;\n",
       "    }\n",
       "\n",
       "    .dataframe tbody tr th {\n",
       "        vertical-align: top;\n",
       "    }\n",
       "\n",
       "    .dataframe thead th {\n",
       "        text-align: right;\n",
       "    }\n",
       "</style>\n",
       "<table border=\"1\" class=\"dataframe\">\n",
       "  <thead>\n",
       "    <tr style=\"text-align: right;\">\n",
       "      <th></th>\n",
       "      <th>CustomerID</th>\n",
       "      <th>Name</th>\n",
       "      <th>Age</th>\n",
       "      <th>Country</th>\n",
       "      <th>SignupDate</th>\n",
       "      <th>Spending</th>\n",
       "    </tr>\n",
       "  </thead>\n",
       "  <tbody>\n",
       "    <tr>\n",
       "      <th>858</th>\n",
       "      <td>859</td>\n",
       "      <td>Customer_859</td>\n",
       "      <td>56</td>\n",
       "      <td>Germany</td>\n",
       "      <td>2023-08-29</td>\n",
       "      <td>3530</td>\n",
       "    </tr>\n",
       "    <tr>\n",
       "      <th>986</th>\n",
       "      <td>987</td>\n",
       "      <td>Customer_987</td>\n",
       "      <td>62</td>\n",
       "      <td>USA</td>\n",
       "      <td>2022-07-16</td>\n",
       "      <td>4007</td>\n",
       "    </tr>\n",
       "    <tr>\n",
       "      <th>183</th>\n",
       "      <td>184</td>\n",
       "      <td>Customer_184</td>\n",
       "      <td>45</td>\n",
       "      <td>Canada</td>\n",
       "      <td>2023-07-24</td>\n",
       "      <td>4105</td>\n",
       "    </tr>\n",
       "    <tr>\n",
       "      <th>502</th>\n",
       "      <td>503</td>\n",
       "      <td>Customer_503</td>\n",
       "      <td>22</td>\n",
       "      <td>Germany</td>\n",
       "      <td>2020-05-08</td>\n",
       "      <td>3058</td>\n",
       "    </tr>\n",
       "    <tr>\n",
       "      <th>710</th>\n",
       "      <td>711</td>\n",
       "      <td>Customer_711</td>\n",
       "      <td>56</td>\n",
       "      <td>UK</td>\n",
       "      <td>2023-03-23</td>\n",
       "      <td>3130</td>\n",
       "    </tr>\n",
       "    <tr>\n",
       "      <th>692</th>\n",
       "      <td>693</td>\n",
       "      <td>Customer_693</td>\n",
       "      <td>55</td>\n",
       "      <td>Germany</td>\n",
       "      <td>2022-11-03</td>\n",
       "      <td>4163</td>\n",
       "    </tr>\n",
       "    <tr>\n",
       "      <th>604</th>\n",
       "      <td>605</td>\n",
       "      <td>Customer_605</td>\n",
       "      <td>54</td>\n",
       "      <td>UK</td>\n",
       "      <td>2021-02-17</td>\n",
       "      <td>622</td>\n",
       "    </tr>\n",
       "    <tr>\n",
       "      <th>653</th>\n",
       "      <td>654</td>\n",
       "      <td>Customer_654</td>\n",
       "      <td>29</td>\n",
       "      <td>France</td>\n",
       "      <td>2020-01-23</td>\n",
       "      <td>2200</td>\n",
       "    </tr>\n",
       "    <tr>\n",
       "      <th>447</th>\n",
       "      <td>448</td>\n",
       "      <td>Customer_448</td>\n",
       "      <td>39</td>\n",
       "      <td>Germany</td>\n",
       "      <td>2021-04-27</td>\n",
       "      <td>2908</td>\n",
       "    </tr>\n",
       "    <tr>\n",
       "      <th>884</th>\n",
       "      <td>885</td>\n",
       "      <td>Customer_885</td>\n",
       "      <td>67</td>\n",
       "      <td>USA</td>\n",
       "      <td>2020-01-28</td>\n",
       "      <td>4846</td>\n",
       "    </tr>\n",
       "  </tbody>\n",
       "</table>\n",
       "</div>"
      ],
      "text/plain": [
       "     CustomerID          Name  Age  Country SignupDate  Spending\n",
       "858         859  Customer_859   56  Germany 2023-08-29      3530\n",
       "986         987  Customer_987   62      USA 2022-07-16      4007\n",
       "183         184  Customer_184   45   Canada 2023-07-24      4105\n",
       "502         503  Customer_503   22  Germany 2020-05-08      3058\n",
       "710         711  Customer_711   56       UK 2023-03-23      3130\n",
       "692         693  Customer_693   55  Germany 2022-11-03      4163\n",
       "604         605  Customer_605   54       UK 2021-02-17       622\n",
       "653         654  Customer_654   29   France 2020-01-23      2200\n",
       "447         448  Customer_448   39  Germany 2021-04-27      2908\n",
       "884         885  Customer_885   67      USA 2020-01-28      4846"
      ]
     },
     "execution_count": 45,
     "metadata": {},
     "output_type": "execute_result"
    }
   ],
   "source": [
    "df.sample(n= 10, random_state = 43)"
   ]
  },
  {
   "cell_type": "code",
   "execution_count": 46,
   "id": "be8540ca",
   "metadata": {},
   "outputs": [
    {
     "data": {
      "text/html": [
       "<div>\n",
       "<style scoped>\n",
       "    .dataframe tbody tr th:only-of-type {\n",
       "        vertical-align: middle;\n",
       "    }\n",
       "\n",
       "    .dataframe tbody tr th {\n",
       "        vertical-align: top;\n",
       "    }\n",
       "\n",
       "    .dataframe thead th {\n",
       "        text-align: right;\n",
       "    }\n",
       "</style>\n",
       "<table border=\"1\" class=\"dataframe\">\n",
       "  <thead>\n",
       "    <tr style=\"text-align: right;\">\n",
       "      <th></th>\n",
       "      <th>CustomerID</th>\n",
       "      <th>Name</th>\n",
       "      <th>Age</th>\n",
       "      <th>Country</th>\n",
       "      <th>SignupDate</th>\n",
       "      <th>Spending</th>\n",
       "    </tr>\n",
       "  </thead>\n",
       "  <tbody>\n",
       "    <tr>\n",
       "      <th>204</th>\n",
       "      <td>205</td>\n",
       "      <td>Customer_205</td>\n",
       "      <td>54</td>\n",
       "      <td>USA</td>\n",
       "      <td>2023-05-10</td>\n",
       "      <td>1259</td>\n",
       "    </tr>\n",
       "    <tr>\n",
       "      <th>71</th>\n",
       "      <td>72</td>\n",
       "      <td>Customer_72</td>\n",
       "      <td>59</td>\n",
       "      <td>Canada</td>\n",
       "      <td>2020-01-19</td>\n",
       "      <td>1048</td>\n",
       "    </tr>\n",
       "    <tr>\n",
       "      <th>594</th>\n",
       "      <td>595</td>\n",
       "      <td>Customer_595</td>\n",
       "      <td>21</td>\n",
       "      <td>UK</td>\n",
       "      <td>2022-02-21</td>\n",
       "      <td>2048</td>\n",
       "    </tr>\n",
       "    <tr>\n",
       "      <th>672</th>\n",
       "      <td>673</td>\n",
       "      <td>Customer_673</td>\n",
       "      <td>35</td>\n",
       "      <td>France</td>\n",
       "      <td>2021-04-17</td>\n",
       "      <td>839</td>\n",
       "    </tr>\n",
       "    <tr>\n",
       "      <th>14</th>\n",
       "      <td>15</td>\n",
       "      <td>Customer_15</td>\n",
       "      <td>57</td>\n",
       "      <td>USA</td>\n",
       "      <td>2023-08-10</td>\n",
       "      <td>3964</td>\n",
       "    </tr>\n",
       "    <tr>\n",
       "      <th>...</th>\n",
       "      <td>...</td>\n",
       "      <td>...</td>\n",
       "      <td>...</td>\n",
       "      <td>...</td>\n",
       "      <td>...</td>\n",
       "      <td>...</td>\n",
       "    </tr>\n",
       "    <tr>\n",
       "      <th>647</th>\n",
       "      <td>648</td>\n",
       "      <td>Customer_648</td>\n",
       "      <td>69</td>\n",
       "      <td>UK</td>\n",
       "      <td>2021-02-24</td>\n",
       "      <td>334</td>\n",
       "    </tr>\n",
       "    <tr>\n",
       "      <th>797</th>\n",
       "      <td>798</td>\n",
       "      <td>Customer_798</td>\n",
       "      <td>64</td>\n",
       "      <td>UK</td>\n",
       "      <td>2023-10-04</td>\n",
       "      <td>719</td>\n",
       "    </tr>\n",
       "    <tr>\n",
       "      <th>605</th>\n",
       "      <td>606</td>\n",
       "      <td>Customer_606</td>\n",
       "      <td>26</td>\n",
       "      <td>UK</td>\n",
       "      <td>2023-04-10</td>\n",
       "      <td>3623</td>\n",
       "    </tr>\n",
       "    <tr>\n",
       "      <th>611</th>\n",
       "      <td>612</td>\n",
       "      <td>Customer_612</td>\n",
       "      <td>53</td>\n",
       "      <td>Canada</td>\n",
       "      <td>2020-05-01</td>\n",
       "      <td>2957</td>\n",
       "    </tr>\n",
       "    <tr>\n",
       "      <th>988</th>\n",
       "      <td>989</td>\n",
       "      <td>Customer_989</td>\n",
       "      <td>31</td>\n",
       "      <td>France</td>\n",
       "      <td>2021-09-04</td>\n",
       "      <td>3064</td>\n",
       "    </tr>\n",
       "  </tbody>\n",
       "</table>\n",
       "<p>200 rows × 6 columns</p>\n",
       "</div>"
      ],
      "text/plain": [
       "     CustomerID          Name  Age Country SignupDate  Spending\n",
       "204         205  Customer_205   54     USA 2023-05-10      1259\n",
       "71           72   Customer_72   59  Canada 2020-01-19      1048\n",
       "594         595  Customer_595   21      UK 2022-02-21      2048\n",
       "672         673  Customer_673   35  France 2021-04-17       839\n",
       "14           15   Customer_15   57     USA 2023-08-10      3964\n",
       "..          ...           ...  ...     ...        ...       ...\n",
       "647         648  Customer_648   69      UK 2021-02-24       334\n",
       "797         798  Customer_798   64      UK 2023-10-04       719\n",
       "605         606  Customer_606   26      UK 2023-04-10      3623\n",
       "611         612  Customer_612   53  Canada 2020-05-01      2957\n",
       "988         989  Customer_989   31  France 2021-09-04      3064\n",
       "\n",
       "[200 rows x 6 columns]"
      ]
     },
     "execution_count": 46,
     "metadata": {},
     "output_type": "execute_result"
    }
   ],
   "source": [
    "### How to select 20% of the data as a sample?\n",
    "df.sample(frac = 0.2,  random_state = 40)"
   ]
  },
  {
   "cell_type": "markdown",
   "id": "c196c267",
   "metadata": {},
   "source": [
    "### Binominal Distribution\n",
    "\n",
    "Assume a fair coin (𝑝=0.5 is tossed 𝑛=10 times.)\n",
    "\n",
    "Use the PMF to calculate the probability of getting exactly 6 heads.\n",
    "\n",
    "Use the CDF to calculate the probability of getting at most 6 heads.\n",
    "\n",
    "Use rvs to simulate 15 experiments of tossing the coin 10 times.\n",
    "\n",
    "What value does ppf(0.95) give, and what does it mean in this context?"
   ]
  },
  {
   "cell_type": "code",
   "execution_count": 47,
   "id": "038ec9d9",
   "metadata": {},
   "outputs": [
    {
     "data": {
      "text/plain": [
       "np.float64(0.2050781249999999)"
      ]
     },
     "execution_count": 47,
     "metadata": {},
     "output_type": "execute_result"
    }
   ],
   "source": [
    "from scipy.stats import binom\n",
    "binom.pmf(k = 6,n = 10, p= 0.5)"
   ]
  },
  {
   "cell_type": "code",
   "execution_count": 48,
   "id": "9adb4a5d",
   "metadata": {},
   "outputs": [
    {
     "data": {
      "text/plain": [
       "np.float64(0.828125)"
      ]
     },
     "execution_count": 48,
     "metadata": {},
     "output_type": "execute_result"
    }
   ],
   "source": [
    "binom.cdf(k = 6, n = 10, p = 0.5)"
   ]
  },
  {
   "cell_type": "code",
   "execution_count": 49,
   "id": "0edc8770",
   "metadata": {},
   "outputs": [],
   "source": [
    "simulation_coin_toss = binom.rvs(n = 10, p = 0.5, size = 15)"
   ]
  },
  {
   "cell_type": "code",
   "execution_count": 52,
   "id": "14da6f1a",
   "metadata": {},
   "outputs": [
    {
     "data": {
      "text/plain": [
       "np.float64(8.0)"
      ]
     },
     "execution_count": 52,
     "metadata": {},
     "output_type": "execute_result"
    }
   ],
   "source": [
    "binom.ppf(0.95, n = 10, p= 0.5)"
   ]
  },
  {
   "cell_type": "markdown",
   "id": "b3220194",
   "metadata": {},
   "source": [
    "### ppf is the inverse of cdf, based on binom.ppf(0.95, n = 10, p = 0.5)\n",
    "it means that in 10 coin tosses, the maximum number of heads we can get with 95% confidence is 8."
   ]
  },
  {
   "cell_type": "code",
   "execution_count": 50,
   "id": "b4d09ae5",
   "metadata": {},
   "outputs": [
    {
     "name": "stdout",
     "output_type": "stream",
     "text": [
      "[ 4  9  6  7  5  6  4  4  7  6  6 10  7  5  5]\n"
     ]
    }
   ],
   "source": [
    "print(simulation_coin_toss)"
   ]
  },
  {
   "cell_type": "markdown",
   "id": "5f92c4b8",
   "metadata": {},
   "source": [
    "### Uniform Distribution\n",
    "\n",
    "Suppose 𝑋~Uniform(0,10)\n",
    "\n",
    "What is the probability P(3≤X≤7)? (hint: use the CDF).\n",
    "\n",
    "Generate 5 random samples using rvs.\n",
    "\n",
    "What number does ppf(0.25) return? Why does it make sense?"
   ]
  },
  {
   "cell_type": "code",
   "execution_count": 53,
   "id": "a4654da2",
   "metadata": {},
   "outputs": [
    {
     "name": "stdout",
     "output_type": "stream",
     "text": [
      "0.39999999999999997\n"
     ]
    }
   ],
   "source": [
    "from scipy.stats import uniform\n",
    "print(uniform.cdf(7, loc = 0, scale = 10) - uniform.cdf(3, loc = 0, scale = 10))"
   ]
  },
  {
   "cell_type": "code",
   "execution_count": 54,
   "id": "4ce8341f",
   "metadata": {},
   "outputs": [
    {
     "data": {
      "text/plain": [
       "array([6.50915075, 7.37632582, 6.16525599, 2.07423627, 3.71216086])"
      ]
     },
     "execution_count": 54,
     "metadata": {},
     "output_type": "execute_result"
    }
   ],
   "source": [
    "uniform.rvs(loc = 0, scale = 10, size = 5)"
   ]
  },
  {
   "cell_type": "code",
   "execution_count": 56,
   "id": "c937c6df",
   "metadata": {},
   "outputs": [
    {
     "data": {
      "text/plain": [
       "np.float64(2.5)"
      ]
     },
     "execution_count": 56,
     "metadata": {},
     "output_type": "execute_result"
    }
   ],
   "source": [
    "uniform.ppf(0.25, loc = 0, scale = 10)\n",
    "\n",
    "## uniform.ppf(0.25, loc = 0, scale = 10) stands for the 25th percentile of a uniform distribution that ranges from 0 to 10."
   ]
  },
  {
   "cell_type": "markdown",
   "id": "0596b553",
   "metadata": {},
   "source": [
    "### Normal Distribution\n",
    "\n",
    "Let X∼N(μ=50,σ=10).\n",
    "\n",
    "What is the probability P(X≤60)?\n",
    "\n",
    "What is the z-score for 60?\n",
    "\n",
    "Generate 10 samples using rvs.\n",
    "\n",
    "Use ppf to find the 2.5th and 97.5th percentiles — what interval is this?"
   ]
  },
  {
   "cell_type": "code",
   "execution_count": 57,
   "id": "52677ee0",
   "metadata": {},
   "outputs": [
    {
     "data": {
      "text/plain": [
       "np.float64(0.8413447460685429)"
      ]
     },
     "execution_count": 57,
     "metadata": {},
     "output_type": "execute_result"
    }
   ],
   "source": [
    "from scipy.stats import norm\n",
    "norm.cdf(60, loc = 50, scale = 10)"
   ]
  },
  {
   "cell_type": "code",
   "execution_count": 60,
   "id": "ee0f45aa",
   "metadata": {},
   "outputs": [
    {
     "data": {
      "text/plain": [
       "np.float64(nan)"
      ]
     },
     "execution_count": 60,
     "metadata": {},
     "output_type": "execute_result"
    }
   ],
   "source": [
    "norm.ppf(60, loc = 50, scale = 10)"
   ]
  },
  {
   "cell_type": "code",
   "execution_count": 62,
   "id": "304096e6",
   "metadata": {},
   "outputs": [
    {
     "data": {
      "text/plain": [
       "1.0"
      ]
     },
     "execution_count": 62,
     "metadata": {},
     "output_type": "execute_result"
    }
   ],
   "source": [
    "z_score = (60-50)/10\n",
    "z_score\n"
   ]
  },
  {
   "cell_type": "code",
   "execution_count": 63,
   "id": "8170579e",
   "metadata": {},
   "outputs": [
    {
     "data": {
      "text/plain": [
       "array([56.08504268, 54.26339092, 43.46318284, 55.47021902, 53.63215816,\n",
       "       48.50820425, 56.05037244, 47.34732589, 55.80728806, 25.05137155])"
      ]
     },
     "execution_count": 63,
     "metadata": {},
     "output_type": "execute_result"
    }
   ],
   "source": [
    "norm.rvs(loc = 50, scale = 10, size = 10)"
   ]
  },
  {
   "cell_type": "code",
   "execution_count": 64,
   "id": "f12b9926",
   "metadata": {},
   "outputs": [
    {
     "data": {
      "text/plain": [
       "(np.float64(69.59963984540053), np.float64(30.400360154599454))"
      ]
     },
     "execution_count": 64,
     "metadata": {},
     "output_type": "execute_result"
    }
   ],
   "source": [
    "upper_bound = norm.ppf(0.975, loc = 50, scale = 10)\n",
    "lower_bound = norm.ppf(0.025, loc = 50, scale = 10)\n",
    "(upper_bound, lower_bound)"
   ]
  },
  {
   "cell_type": "markdown",
   "id": "646c4081",
   "metadata": {},
   "source": [
    "### Exponential Distribution\n",
    "\n",
    "Suppose customer arrivals follow an exponential distribution with mean 5 minutes.\n",
    "(Recall: if mean = 𝜇, then λ=1/μ).\n",
    "\n",
    "What is the probability that the next customer arrives within 3 minutes?\n",
    "\n",
    "Simulate 8 waiting times with rvs.\n",
    "\n",
    "Use ppf(0.9) to find the 90th percentile waiting time."
   ]
  },
  {
   "cell_type": "markdown",
   "id": "c69c8985",
   "metadata": {},
   "source": [
    "in python, the scale for exponential distribution is equal to 1/lambda\n",
    "lambda = 1/mean\n",
    "therefore, scale = mean"
   ]
  },
  {
   "cell_type": "code",
   "execution_count": 67,
   "id": "93358aeb",
   "metadata": {},
   "outputs": [
    {
     "data": {
      "text/plain": [
       "np.float64(0.4511883639059735)"
      ]
     },
     "execution_count": 67,
     "metadata": {},
     "output_type": "execute_result"
    }
   ],
   "source": [
    "from scipy.stats import expon\n",
    "expon.cdf(3, scale = 5)\n"
   ]
  },
  {
   "cell_type": "code",
   "execution_count": 68,
   "id": "9792158e",
   "metadata": {},
   "outputs": [
    {
     "data": {
      "text/plain": [
       "array([3.85699452, 0.23162547, 2.14046283, 2.15252486, 1.85732624,\n",
       "       1.7045963 , 3.20974992, 0.75403619])"
      ]
     },
     "execution_count": 68,
     "metadata": {},
     "output_type": "execute_result"
    }
   ],
   "source": [
    "expon.rvs(scale = 5, size = 8)"
   ]
  },
  {
   "cell_type": "code",
   "execution_count": 69,
   "id": "11b324a1",
   "metadata": {},
   "outputs": [
    {
     "data": {
      "text/plain": [
       "np.float64(11.51292546497023)"
      ]
     },
     "execution_count": 69,
     "metadata": {},
     "output_type": "execute_result"
    }
   ],
   "source": [
    "expon.ppf(0.9, scale = 5)"
   ]
  },
  {
   "cell_type": "markdown",
   "id": "17aed6ba",
   "metadata": {},
   "source": [
    "### Poisson Distribution\n",
    "\n",
    "A call center gets on average 4 calls per hour.\n",
    "\n",
    "Use the PMF to find the probability of receiving exactly 2 calls in the next hour.\n",
    "\n",
    "Use the CDF to find the probability of receiving at most 2 calls.\n",
    "\n",
    "Simulate 12 hours of calls using rvs.\n",
    "\n",
    "What does ppf(0.95) tell you in this context?"
   ]
  },
  {
   "cell_type": "code",
   "execution_count": 72,
   "id": "518f38b6",
   "metadata": {},
   "outputs": [
    {
     "data": {
      "text/plain": [
       "np.float64(0.14652511110987343)"
      ]
     },
     "execution_count": 72,
     "metadata": {},
     "output_type": "execute_result"
    }
   ],
   "source": [
    "from scipy.stats import poisson\n",
    "poisson.pmf(2, 4)"
   ]
  },
  {
   "cell_type": "code",
   "execution_count": 74,
   "id": "ed3a8a6b",
   "metadata": {},
   "outputs": [
    {
     "data": {
      "text/plain": [
       "np.float64(0.23810330555354436)"
      ]
     },
     "execution_count": 74,
     "metadata": {},
     "output_type": "execute_result"
    }
   ],
   "source": [
    "poisson.cdf(2, 4)"
   ]
  },
  {
   "cell_type": "code",
   "execution_count": 75,
   "id": "679d481c",
   "metadata": {},
   "outputs": [
    {
     "data": {
      "text/plain": [
       "array([7, 5, 6, 5, 7, 7, 0, 0, 5, 4, 3, 2])"
      ]
     },
     "execution_count": 75,
     "metadata": {},
     "output_type": "execute_result"
    }
   ],
   "source": [
    "poisson.rvs(4, size = 12)"
   ]
  },
  {
   "cell_type": "code",
   "execution_count": 77,
   "id": "d0fcdc1d",
   "metadata": {},
   "outputs": [
    {
     "data": {
      "text/plain": [
       "np.float64(8.0)"
      ]
     },
     "execution_count": 77,
     "metadata": {},
     "output_type": "execute_result"
    }
   ],
   "source": [
    "poisson.ppf(0.95, 4)\n",
    "## what does poisson.ppf(0.95, 4) mean? i\n",
    "## it means the value below which 95% of the observations fall in a Poisson distribution with a mean of 4.\n"
   ]
  },
  {
   "cell_type": "markdown",
   "id": "9936d634",
   "metadata": {},
   "source": [
    "### Correlation"
   ]
  },
  {
   "cell_type": "code",
   "execution_count": 78,
   "id": "dcaaef68",
   "metadata": {},
   "outputs": [
    {
     "data": {
      "text/html": [
       "<div>\n",
       "<style scoped>\n",
       "    .dataframe tbody tr th:only-of-type {\n",
       "        vertical-align: middle;\n",
       "    }\n",
       "\n",
       "    .dataframe tbody tr th {\n",
       "        vertical-align: top;\n",
       "    }\n",
       "\n",
       "    .dataframe thead th {\n",
       "        text-align: right;\n",
       "    }\n",
       "</style>\n",
       "<table border=\"1\" class=\"dataframe\">\n",
       "  <thead>\n",
       "    <tr style=\"text-align: right;\">\n",
       "      <th></th>\n",
       "      <th>CustomerID</th>\n",
       "      <th>Name</th>\n",
       "      <th>Age</th>\n",
       "      <th>Country</th>\n",
       "      <th>SignupDate</th>\n",
       "      <th>Spending</th>\n",
       "    </tr>\n",
       "  </thead>\n",
       "  <tbody>\n",
       "    <tr>\n",
       "      <th>0</th>\n",
       "      <td>1</td>\n",
       "      <td>Customer_1</td>\n",
       "      <td>56</td>\n",
       "      <td>UK</td>\n",
       "      <td>2023-05-24</td>\n",
       "      <td>2010</td>\n",
       "    </tr>\n",
       "    <tr>\n",
       "      <th>1</th>\n",
       "      <td>2</td>\n",
       "      <td>Customer_2</td>\n",
       "      <td>69</td>\n",
       "      <td>UK</td>\n",
       "      <td>2023-06-28</td>\n",
       "      <td>3704</td>\n",
       "    </tr>\n",
       "    <tr>\n",
       "      <th>2</th>\n",
       "      <td>3</td>\n",
       "      <td>Customer_3</td>\n",
       "      <td>46</td>\n",
       "      <td>USA</td>\n",
       "      <td>2020-05-05</td>\n",
       "      <td>769</td>\n",
       "    </tr>\n",
       "    <tr>\n",
       "      <th>3</th>\n",
       "      <td>4</td>\n",
       "      <td>Customer_4</td>\n",
       "      <td>32</td>\n",
       "      <td>France</td>\n",
       "      <td>2020-08-04</td>\n",
       "      <td>4464</td>\n",
       "    </tr>\n",
       "    <tr>\n",
       "      <th>4</th>\n",
       "      <td>5</td>\n",
       "      <td>Customer_5</td>\n",
       "      <td>60</td>\n",
       "      <td>Germany</td>\n",
       "      <td>2023-08-22</td>\n",
       "      <td>1383</td>\n",
       "    </tr>\n",
       "  </tbody>\n",
       "</table>\n",
       "</div>"
      ],
      "text/plain": [
       "   CustomerID        Name  Age  Country SignupDate  Spending\n",
       "0           1  Customer_1   56       UK 2023-05-24      2010\n",
       "1           2  Customer_2   69       UK 2023-06-28      3704\n",
       "2           3  Customer_3   46      USA 2020-05-05       769\n",
       "3           4  Customer_4   32   France 2020-08-04      4464\n",
       "4           5  Customer_5   60  Germany 2023-08-22      1383"
      ]
     },
     "execution_count": 78,
     "metadata": {},
     "output_type": "execute_result"
    }
   ],
   "source": [
    "df.head()"
   ]
  },
  {
   "cell_type": "code",
   "execution_count": 81,
   "id": "f772e367",
   "metadata": {},
   "outputs": [
    {
     "data": {
      "text/plain": [
       "np.float64(0.015314764377192033)"
      ]
     },
     "execution_count": 81,
     "metadata": {},
     "output_type": "execute_result"
    }
   ],
   "source": [
    "df['Age'].corr(df['Spending'])"
   ]
  },
  {
   "cell_type": "markdown",
   "id": "a6c797ba",
   "metadata": {},
   "source": []
  }
 ],
 "metadata": {
  "kernelspec": {
   "display_name": ".venv",
   "language": "python",
   "name": "python3"
  },
  "language_info": {
   "codemirror_mode": {
    "name": "ipython",
    "version": 3
   },
   "file_extension": ".py",
   "mimetype": "text/x-python",
   "name": "python",
   "nbconvert_exporter": "python",
   "pygments_lexer": "ipython3",
   "version": "3.11.9"
  }
 },
 "nbformat": 4,
 "nbformat_minor": 5
}
