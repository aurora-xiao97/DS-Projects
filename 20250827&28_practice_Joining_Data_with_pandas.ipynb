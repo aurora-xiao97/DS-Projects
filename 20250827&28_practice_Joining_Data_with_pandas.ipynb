{
 "cells": [
  {
   "cell_type": "markdown",
   "id": "f5582b49",
   "metadata": {},
   "source": [
    "## Practicing Joining Data with pandas"
   ]
  },
  {
   "cell_type": "markdown",
   "id": "ad4efa5c",
   "metadata": {},
   "source": [
    "### Practicing on August 27th, 2025"
   ]
  },
  {
   "cell_type": "markdown",
   "id": "d092c1fe",
   "metadata": {},
   "source": []
  },
  {
   "cell_type": "markdown",
   "id": "60a6ea67",
   "metadata": {},
   "source": [
    "### Loading Packages"
   ]
  },
  {
   "cell_type": "code",
   "execution_count": 1,
   "id": "429f8e1b",
   "metadata": {},
   "outputs": [],
   "source": [
    "### importing packages\n",
    "import pandas as pd\n",
    "import numpy as np\n",
    "import matplotlib.pyplot as plt"
   ]
  },
  {
   "cell_type": "markdown",
   "id": "1a8a8cd4",
   "metadata": {},
   "source": [
    "### Creating a customer table"
   ]
  },
  {
   "cell_type": "code",
   "execution_count": 2,
   "id": "ec51637d",
   "metadata": {},
   "outputs": [
    {
     "name": "stdout",
     "output_type": "stream",
     "text": [
      "   customer_id     name country\n",
      "0            1    Alice     USA\n",
      "1            2      Bob      UK\n",
      "2            3  Charlie     USA\n",
      "3            4    Diana  Canada\n"
     ]
    }
   ],
   "source": [
    "\n",
    "customers = pd.DataFrame({\n",
    "    \"customer_id\": [1, 2, 3, 4],\n",
    "    \"name\": [\"Alice\", \"Bob\", \"Charlie\", \"Diana\"],\n",
    "    \"country\": [\"USA\", \"UK\", \"USA\", \"Canada\"]\n",
    "})\n",
    "print(customers)\n"
   ]
  },
  {
   "cell_type": "markdown",
   "id": "b6b9d336",
   "metadata": {},
   "source": [
    "### Creating an order table"
   ]
  },
  {
   "cell_type": "code",
   "execution_count": 3,
   "id": "b3dc8762",
   "metadata": {},
   "outputs": [
    {
     "name": "stdout",
     "output_type": "stream",
     "text": [
      "   order_id  customer_id  amount\n",
      "0       101            1     250\n",
      "1       102            2     150\n",
      "2       103            2     300\n",
      "3       104            5     200\n",
      "4       105            3     450\n"
     ]
    }
   ],
   "source": [
    "orders = pd.DataFrame({\n",
    "    \"order_id\": [101, 102, 103, 104, 105],\n",
    "    \"customer_id\": [1, 2, 2, 5, 3],\n",
    "    \"amount\": [250, 150, 300, 200, 450]\n",
    "})\n",
    "print(orders)\n"
   ]
  },
  {
   "cell_type": "markdown",
   "id": "a8eba556",
   "metadata": {},
   "source": [
    "### Inner Join"
   ]
  },
  {
   "cell_type": "code",
   "execution_count": 4,
   "id": "8b324b23",
   "metadata": {},
   "outputs": [],
   "source": [
    "customer_order = pd.merge(customers, orders, on = \"customer_id\", how = \"inner\", suffixes = (\"_c\", \"_o\"))"
   ]
  },
  {
   "cell_type": "markdown",
   "id": "99c72b83",
   "metadata": {},
   "source": [
    "Besides these parameters from above, there is another one validate = None (default) for the pd.merge() or DataFrame.merge()\n",
    "The validate parameter could test \"one_to_one\", \"one_to_many\", \"many_to_one\", \"many_to_many\"\n",
    "if the execution of the merge and validate the results of two table does not match with the validation specified in the parameter then, it would raise merge error."
   ]
  },
  {
   "cell_type": "code",
   "execution_count": 5,
   "id": "0db7af2f",
   "metadata": {},
   "outputs": [
    {
     "data": {
      "text/html": [
       "<div>\n",
       "<style scoped>\n",
       "    .dataframe tbody tr th:only-of-type {\n",
       "        vertical-align: middle;\n",
       "    }\n",
       "\n",
       "    .dataframe tbody tr th {\n",
       "        vertical-align: top;\n",
       "    }\n",
       "\n",
       "    .dataframe thead th {\n",
       "        text-align: right;\n",
       "    }\n",
       "</style>\n",
       "<table border=\"1\" class=\"dataframe\">\n",
       "  <thead>\n",
       "    <tr style=\"text-align: right;\">\n",
       "      <th></th>\n",
       "      <th>customer_id</th>\n",
       "      <th>name</th>\n",
       "      <th>country</th>\n",
       "      <th>order_id</th>\n",
       "      <th>amount</th>\n",
       "    </tr>\n",
       "  </thead>\n",
       "  <tbody>\n",
       "    <tr>\n",
       "      <th>0</th>\n",
       "      <td>1</td>\n",
       "      <td>Alice</td>\n",
       "      <td>USA</td>\n",
       "      <td>101</td>\n",
       "      <td>250</td>\n",
       "    </tr>\n",
       "    <tr>\n",
       "      <th>1</th>\n",
       "      <td>2</td>\n",
       "      <td>Bob</td>\n",
       "      <td>UK</td>\n",
       "      <td>102</td>\n",
       "      <td>150</td>\n",
       "    </tr>\n",
       "    <tr>\n",
       "      <th>2</th>\n",
       "      <td>2</td>\n",
       "      <td>Bob</td>\n",
       "      <td>UK</td>\n",
       "      <td>103</td>\n",
       "      <td>300</td>\n",
       "    </tr>\n",
       "    <tr>\n",
       "      <th>3</th>\n",
       "      <td>3</td>\n",
       "      <td>Charlie</td>\n",
       "      <td>USA</td>\n",
       "      <td>105</td>\n",
       "      <td>450</td>\n",
       "    </tr>\n",
       "  </tbody>\n",
       "</table>\n",
       "</div>"
      ],
      "text/plain": [
       "   customer_id     name country  order_id  amount\n",
       "0            1    Alice     USA       101     250\n",
       "1            2      Bob      UK       102     150\n",
       "2            2      Bob      UK       103     300\n",
       "3            3  Charlie     USA       105     450"
      ]
     },
     "execution_count": 5,
     "metadata": {},
     "output_type": "execute_result"
    }
   ],
   "source": [
    "customer_order"
   ]
  },
  {
   "cell_type": "code",
   "execution_count": 6,
   "id": "357d6fc0",
   "metadata": {},
   "outputs": [
    {
     "data": {
      "text/html": [
       "<div>\n",
       "<style scoped>\n",
       "    .dataframe tbody tr th:only-of-type {\n",
       "        vertical-align: middle;\n",
       "    }\n",
       "\n",
       "    .dataframe tbody tr th {\n",
       "        vertical-align: top;\n",
       "    }\n",
       "\n",
       "    .dataframe thead th {\n",
       "        text-align: right;\n",
       "    }\n",
       "</style>\n",
       "<table border=\"1\" class=\"dataframe\">\n",
       "  <thead>\n",
       "    <tr style=\"text-align: right;\">\n",
       "      <th></th>\n",
       "      <th>customer_id</th>\n",
       "      <th>name</th>\n",
       "      <th>country</th>\n",
       "      <th>order_id</th>\n",
       "      <th>amount</th>\n",
       "    </tr>\n",
       "  </thead>\n",
       "  <tbody>\n",
       "    <tr>\n",
       "      <th>0</th>\n",
       "      <td>1</td>\n",
       "      <td>Alice</td>\n",
       "      <td>USA</td>\n",
       "      <td>101</td>\n",
       "      <td>250</td>\n",
       "    </tr>\n",
       "    <tr>\n",
       "      <th>1</th>\n",
       "      <td>2</td>\n",
       "      <td>Bob</td>\n",
       "      <td>UK</td>\n",
       "      <td>102</td>\n",
       "      <td>150</td>\n",
       "    </tr>\n",
       "    <tr>\n",
       "      <th>2</th>\n",
       "      <td>2</td>\n",
       "      <td>Bob</td>\n",
       "      <td>UK</td>\n",
       "      <td>103</td>\n",
       "      <td>300</td>\n",
       "    </tr>\n",
       "    <tr>\n",
       "      <th>3</th>\n",
       "      <td>3</td>\n",
       "      <td>Charlie</td>\n",
       "      <td>USA</td>\n",
       "      <td>105</td>\n",
       "      <td>450</td>\n",
       "    </tr>\n",
       "  </tbody>\n",
       "</table>\n",
       "</div>"
      ],
      "text/plain": [
       "   customer_id     name country  order_id  amount\n",
       "0            1    Alice     USA       101     250\n",
       "1            2      Bob      UK       102     150\n",
       "2            2      Bob      UK       103     300\n",
       "3            3  Charlie     USA       105     450"
      ]
     },
     "execution_count": 6,
     "metadata": {},
     "output_type": "execute_result"
    }
   ],
   "source": [
    "### Find which customers have placed orders, and show their names with order details.\n",
    "customer_order = pd.merge(customers, orders, on = \"customer_id\", how = \"inner\", suffixes = (\"_c\", \"_o\"))\n",
    "customer_order.sort_values(by = \"name\", ascending = True)"
   ]
  },
  {
   "cell_type": "code",
   "execution_count": 11,
   "id": "8e477007",
   "metadata": {},
   "outputs": [
    {
     "data": {
      "text/html": [
       "<div>\n",
       "<style scoped>\n",
       "    .dataframe tbody tr th:only-of-type {\n",
       "        vertical-align: middle;\n",
       "    }\n",
       "\n",
       "    .dataframe tbody tr th {\n",
       "        vertical-align: top;\n",
       "    }\n",
       "\n",
       "    .dataframe thead th {\n",
       "        text-align: right;\n",
       "    }\n",
       "</style>\n",
       "<table border=\"1\" class=\"dataframe\">\n",
       "  <thead>\n",
       "    <tr style=\"text-align: right;\">\n",
       "      <th></th>\n",
       "      <th>customer_id</th>\n",
       "      <th>name</th>\n",
       "      <th>country</th>\n",
       "      <th>order_id</th>\n",
       "      <th>amount</th>\n",
       "    </tr>\n",
       "  </thead>\n",
       "  <tbody>\n",
       "    <tr>\n",
       "      <th>0</th>\n",
       "      <td>1</td>\n",
       "      <td>Alice</td>\n",
       "      <td>USA</td>\n",
       "      <td>101.0</td>\n",
       "      <td>250.0</td>\n",
       "    </tr>\n",
       "    <tr>\n",
       "      <th>1</th>\n",
       "      <td>2</td>\n",
       "      <td>Bob</td>\n",
       "      <td>UK</td>\n",
       "      <td>102.0</td>\n",
       "      <td>150.0</td>\n",
       "    </tr>\n",
       "    <tr>\n",
       "      <th>2</th>\n",
       "      <td>2</td>\n",
       "      <td>Bob</td>\n",
       "      <td>UK</td>\n",
       "      <td>103.0</td>\n",
       "      <td>300.0</td>\n",
       "    </tr>\n",
       "    <tr>\n",
       "      <th>3</th>\n",
       "      <td>3</td>\n",
       "      <td>Charlie</td>\n",
       "      <td>USA</td>\n",
       "      <td>105.0</td>\n",
       "      <td>450.0</td>\n",
       "    </tr>\n",
       "    <tr>\n",
       "      <th>4</th>\n",
       "      <td>4</td>\n",
       "      <td>Diana</td>\n",
       "      <td>Canada</td>\n",
       "      <td>NaN</td>\n",
       "      <td>NaN</td>\n",
       "    </tr>\n",
       "  </tbody>\n",
       "</table>\n",
       "</div>"
      ],
      "text/plain": [
       "   customer_id     name country  order_id  amount\n",
       "0            1    Alice     USA     101.0   250.0\n",
       "1            2      Bob      UK     102.0   150.0\n",
       "2            2      Bob      UK     103.0   300.0\n",
       "3            3  Charlie     USA     105.0   450.0\n",
       "4            4    Diana  Canada       NaN     NaN"
      ]
     },
     "execution_count": 11,
     "metadata": {},
     "output_type": "execute_result"
    }
   ],
   "source": [
    "### Find all customers (even those who never ordered) and include their orders if available.\n",
    "customers_all_order = pd.merge(customers, orders, on = \"customer_id\", how = \"left\", suffixes = (\"_c\", \"_o\"))\n",
    "customers_all_order\n",
    "\n",
    "### modification to how = \"left\" is good enough"
   ]
  },
  {
   "cell_type": "code",
   "execution_count": 10,
   "id": "f2cdb943",
   "metadata": {},
   "outputs": [
    {
     "data": {
      "text/html": [
       "<div>\n",
       "<style scoped>\n",
       "    .dataframe tbody tr th:only-of-type {\n",
       "        vertical-align: middle;\n",
       "    }\n",
       "\n",
       "    .dataframe tbody tr th {\n",
       "        vertical-align: top;\n",
       "    }\n",
       "\n",
       "    .dataframe thead th {\n",
       "        text-align: right;\n",
       "    }\n",
       "</style>\n",
       "<table border=\"1\" class=\"dataframe\">\n",
       "  <thead>\n",
       "    <tr style=\"text-align: right;\">\n",
       "      <th></th>\n",
       "      <th>customer_id</th>\n",
       "      <th>name</th>\n",
       "      <th>country</th>\n",
       "      <th>order_id</th>\n",
       "      <th>amount</th>\n",
       "    </tr>\n",
       "  </thead>\n",
       "  <tbody>\n",
       "    <tr>\n",
       "      <th>0</th>\n",
       "      <td>1</td>\n",
       "      <td>Alice</td>\n",
       "      <td>USA</td>\n",
       "      <td>101.0</td>\n",
       "      <td>250.0</td>\n",
       "    </tr>\n",
       "    <tr>\n",
       "      <th>1</th>\n",
       "      <td>2</td>\n",
       "      <td>Bob</td>\n",
       "      <td>UK</td>\n",
       "      <td>102.0</td>\n",
       "      <td>150.0</td>\n",
       "    </tr>\n",
       "    <tr>\n",
       "      <th>2</th>\n",
       "      <td>2</td>\n",
       "      <td>Bob</td>\n",
       "      <td>UK</td>\n",
       "      <td>103.0</td>\n",
       "      <td>300.0</td>\n",
       "    </tr>\n",
       "    <tr>\n",
       "      <th>3</th>\n",
       "      <td>3</td>\n",
       "      <td>Charlie</td>\n",
       "      <td>USA</td>\n",
       "      <td>105.0</td>\n",
       "      <td>450.0</td>\n",
       "    </tr>\n",
       "    <tr>\n",
       "      <th>4</th>\n",
       "      <td>4</td>\n",
       "      <td>Diana</td>\n",
       "      <td>Canada</td>\n",
       "      <td>NaN</td>\n",
       "      <td>NaN</td>\n",
       "    </tr>\n",
       "    <tr>\n",
       "      <th>5</th>\n",
       "      <td>5</td>\n",
       "      <td>NaN</td>\n",
       "      <td>NaN</td>\n",
       "      <td>104.0</td>\n",
       "      <td>200.0</td>\n",
       "    </tr>\n",
       "  </tbody>\n",
       "</table>\n",
       "</div>"
      ],
      "text/plain": [
       "   customer_id     name country  order_id  amount\n",
       "0            1    Alice     USA     101.0   250.0\n",
       "1            2      Bob      UK     102.0   150.0\n",
       "2            2      Bob      UK     103.0   300.0\n",
       "3            3  Charlie     USA     105.0   450.0\n",
       "4            4    Diana  Canada       NaN     NaN\n",
       "5            5      NaN     NaN     104.0   200.0"
      ]
     },
     "execution_count": 10,
     "metadata": {},
     "output_type": "execute_result"
    }
   ],
   "source": [
    "### Find all orders (including ones from customers not in the customers table).\n",
    "customers_all_order_2 = pd.merge(customers, orders, on = \"customer_id\", how = \"outer\", suffixes = (\"_c\", \"_o\"))\n",
    "customers_all_order_2"
   ]
  },
  {
   "cell_type": "code",
   "execution_count": 13,
   "id": "7b02912b",
   "metadata": {},
   "outputs": [
    {
     "data": {
      "text/html": [
       "<div>\n",
       "<style scoped>\n",
       "    .dataframe tbody tr th:only-of-type {\n",
       "        vertical-align: middle;\n",
       "    }\n",
       "\n",
       "    .dataframe tbody tr th {\n",
       "        vertical-align: top;\n",
       "    }\n",
       "\n",
       "    .dataframe thead th {\n",
       "        text-align: right;\n",
       "    }\n",
       "</style>\n",
       "<table border=\"1\" class=\"dataframe\">\n",
       "  <thead>\n",
       "    <tr style=\"text-align: right;\">\n",
       "      <th></th>\n",
       "      <th>amount</th>\n",
       "    </tr>\n",
       "    <tr>\n",
       "      <th>country</th>\n",
       "      <th></th>\n",
       "    </tr>\n",
       "  </thead>\n",
       "  <tbody>\n",
       "    <tr>\n",
       "      <th>Canada</th>\n",
       "      <td>0.0</td>\n",
       "    </tr>\n",
       "    <tr>\n",
       "      <th>UK</th>\n",
       "      <td>450.0</td>\n",
       "    </tr>\n",
       "    <tr>\n",
       "      <th>USA</th>\n",
       "      <td>700.0</td>\n",
       "    </tr>\n",
       "  </tbody>\n",
       "</table>\n",
       "</div>"
      ],
      "text/plain": [
       "         amount\n",
       "country        \n",
       "Canada      0.0\n",
       "UK        450.0\n",
       "USA       700.0"
      ]
     },
     "execution_count": 13,
     "metadata": {},
     "output_type": "execute_result"
    }
   ],
   "source": [
    "### For each country, calculate the total spending from their customers’ orders.\n",
    "customers_all_order_2.groupby(\"country\").agg('sum')[[\"amount\"]]"
   ]
  },
  {
   "cell_type": "code",
   "execution_count": 14,
   "id": "7f102d68",
   "metadata": {},
   "outputs": [
    {
     "data": {
      "text/plain": [
       "country\n",
       "Canada      0.0\n",
       "UK        450.0\n",
       "USA       700.0\n",
       "Name: amount, dtype: float64"
      ]
     },
     "execution_count": 14,
     "metadata": {},
     "output_type": "execute_result"
    }
   ],
   "source": [
    "\n",
    "customers_all_order_2.groupby(\"country\")[\"amount\"].sum()"
   ]
  },
  {
   "cell_type": "markdown",
   "id": "f42a7d90",
   "metadata": {},
   "source": [
    "### Loading Movies and Movie Taglines"
   ]
  },
  {
   "cell_type": "code",
   "execution_count": 18,
   "id": "e97d2832",
   "metadata": {},
   "outputs": [
    {
     "name": "stdout",
     "output_type": "stream",
     "text": [
      "      id                 title  popularity release_date\n",
      "0    257          Oliver Twist   20.415572   2005-09-23\n",
      "1  14290  Better Luck Tomorrow    3.877036   2002-01-12\n",
      "2  38365             Grown Ups   38.864027   2010-06-24\n",
      "3   9672              Infamous    3.680896   2006-11-16\n",
      "4  12819       Alpha and Omega   12.300789   2010-09-17\n"
     ]
    }
   ],
   "source": [
    "import pandas as pd\n",
    "\n",
    "tmdb_movie = pd.read_pickle(\"/Users/auroraxiao/Desktop/Data Science Project/DS-Projects/Data Set/movies.p\")\n",
    "print(tmdb_movie.head())\n"
   ]
  },
  {
   "cell_type": "code",
   "execution_count": 19,
   "id": "3b3ead18",
   "metadata": {},
   "outputs": [
    {
     "name": "stdout",
     "output_type": "stream",
     "text": [
      "       id                                         tagline\n",
      "0   19995                     Enter the World of Pandora.\n",
      "1     285  At the end of the world, the adventure begins.\n",
      "2  206647                           A Plan No One Escapes\n",
      "3   49026                                 The Legend Ends\n",
      "4   49529            Lost in our world, found in another.\n"
     ]
    }
   ],
   "source": [
    "tmdb_taglines = pd.read_pickle(\"/Users/auroraxiao/Desktop/Data Science Project/DS-Projects/Data Set/taglines.p\")\n",
    "print(tmdb_taglines.head())"
   ]
  },
  {
   "cell_type": "markdown",
   "id": "cbecb88d",
   "metadata": {},
   "source": [
    "### left join movies and taglines"
   ]
  },
  {
   "cell_type": "code",
   "execution_count": 21,
   "id": "440b85b9",
   "metadata": {},
   "outputs": [
    {
     "data": {
      "text/html": [
       "<div>\n",
       "<style scoped>\n",
       "    .dataframe tbody tr th:only-of-type {\n",
       "        vertical-align: middle;\n",
       "    }\n",
       "\n",
       "    .dataframe tbody tr th {\n",
       "        vertical-align: top;\n",
       "    }\n",
       "\n",
       "    .dataframe thead th {\n",
       "        text-align: right;\n",
       "    }\n",
       "</style>\n",
       "<table border=\"1\" class=\"dataframe\">\n",
       "  <thead>\n",
       "    <tr style=\"text-align: right;\">\n",
       "      <th></th>\n",
       "      <th>id</th>\n",
       "      <th>title</th>\n",
       "      <th>popularity</th>\n",
       "      <th>release_date</th>\n",
       "      <th>tagline</th>\n",
       "    </tr>\n",
       "  </thead>\n",
       "  <tbody>\n",
       "    <tr>\n",
       "      <th>0</th>\n",
       "      <td>257</td>\n",
       "      <td>Oliver Twist</td>\n",
       "      <td>20.415572</td>\n",
       "      <td>2005-09-23</td>\n",
       "      <td>NaN</td>\n",
       "    </tr>\n",
       "    <tr>\n",
       "      <th>1</th>\n",
       "      <td>14290</td>\n",
       "      <td>Better Luck Tomorrow</td>\n",
       "      <td>3.877036</td>\n",
       "      <td>2002-01-12</td>\n",
       "      <td>Never underestimate an overachiever.</td>\n",
       "    </tr>\n",
       "    <tr>\n",
       "      <th>2</th>\n",
       "      <td>38365</td>\n",
       "      <td>Grown Ups</td>\n",
       "      <td>38.864027</td>\n",
       "      <td>2010-06-24</td>\n",
       "      <td>Boys will be boys. . . some longer than others.</td>\n",
       "    </tr>\n",
       "    <tr>\n",
       "      <th>3</th>\n",
       "      <td>9672</td>\n",
       "      <td>Infamous</td>\n",
       "      <td>3.680896</td>\n",
       "      <td>2006-11-16</td>\n",
       "      <td>There's more to the story than you know</td>\n",
       "    </tr>\n",
       "    <tr>\n",
       "      <th>4</th>\n",
       "      <td>12819</td>\n",
       "      <td>Alpha and Omega</td>\n",
       "      <td>12.300789</td>\n",
       "      <td>2010-09-17</td>\n",
       "      <td>A Pawsome 3D Adventure</td>\n",
       "    </tr>\n",
       "  </tbody>\n",
       "</table>\n",
       "</div>"
      ],
      "text/plain": [
       "      id                 title  popularity release_date  \\\n",
       "0    257          Oliver Twist   20.415572   2005-09-23   \n",
       "1  14290  Better Luck Tomorrow    3.877036   2002-01-12   \n",
       "2  38365             Grown Ups   38.864027   2010-06-24   \n",
       "3   9672              Infamous    3.680896   2006-11-16   \n",
       "4  12819       Alpha and Omega   12.300789   2010-09-17   \n",
       "\n",
       "                                           tagline  \n",
       "0                                              NaN  \n",
       "1             Never underestimate an overachiever.  \n",
       "2  Boys will be boys. . . some longer than others.  \n",
       "3          There's more to the story than you know  \n",
       "4                           A Pawsome 3D Adventure  "
      ]
     },
     "execution_count": 21,
     "metadata": {},
     "output_type": "execute_result"
    }
   ],
   "source": [
    "movies_taglines = tmdb_movie.merge(tmdb_taglines, how = \"left\", on = \"id\", suffixes = (\"_movies\", \"_taglines\"))\n",
    "movies_taglines.head()"
   ]
  },
  {
   "cell_type": "code",
   "execution_count": 22,
   "id": "4cc4acf8",
   "metadata": {},
   "outputs": [
    {
     "data": {
      "text/html": [
       "<div>\n",
       "<style scoped>\n",
       "    .dataframe tbody tr th:only-of-type {\n",
       "        vertical-align: middle;\n",
       "    }\n",
       "\n",
       "    .dataframe tbody tr th {\n",
       "        vertical-align: top;\n",
       "    }\n",
       "\n",
       "    .dataframe thead th {\n",
       "        text-align: right;\n",
       "    }\n",
       "</style>\n",
       "<table border=\"1\" class=\"dataframe\">\n",
       "  <thead>\n",
       "    <tr style=\"text-align: right;\">\n",
       "      <th></th>\n",
       "      <th>id</th>\n",
       "      <th>title</th>\n",
       "      <th>popularity</th>\n",
       "      <th>release_date</th>\n",
       "      <th>tagline</th>\n",
       "    </tr>\n",
       "  </thead>\n",
       "  <tbody>\n",
       "    <tr>\n",
       "      <th>4546</th>\n",
       "      <td>211672</td>\n",
       "      <td>Minions</td>\n",
       "      <td>875.581305</td>\n",
       "      <td>2015-06-17</td>\n",
       "      <td>Before Gru, they had a history of bad bosses</td>\n",
       "    </tr>\n",
       "    <tr>\n",
       "      <th>4343</th>\n",
       "      <td>157336</td>\n",
       "      <td>Interstellar</td>\n",
       "      <td>724.247784</td>\n",
       "      <td>2014-11-05</td>\n",
       "      <td>Mankind was born on Earth. It was never meant ...</td>\n",
       "    </tr>\n",
       "    <tr>\n",
       "      <th>1966</th>\n",
       "      <td>293660</td>\n",
       "      <td>Deadpool</td>\n",
       "      <td>514.569956</td>\n",
       "      <td>2016-02-09</td>\n",
       "      <td>Witness the beginning of a happy ending</td>\n",
       "    </tr>\n",
       "    <tr>\n",
       "      <th>2423</th>\n",
       "      <td>118340</td>\n",
       "      <td>Guardians of the Galaxy</td>\n",
       "      <td>481.098624</td>\n",
       "      <td>2014-07-30</td>\n",
       "      <td>All heroes start somewhere.</td>\n",
       "    </tr>\n",
       "    <tr>\n",
       "      <th>4220</th>\n",
       "      <td>76341</td>\n",
       "      <td>Mad Max: Fury Road</td>\n",
       "      <td>434.278564</td>\n",
       "      <td>2015-05-13</td>\n",
       "      <td>What a Lovely Day.</td>\n",
       "    </tr>\n",
       "    <tr>\n",
       "      <th>...</th>\n",
       "      <td>...</td>\n",
       "      <td>...</td>\n",
       "      <td>...</td>\n",
       "      <td>...</td>\n",
       "      <td>...</td>\n",
       "    </tr>\n",
       "    <tr>\n",
       "      <th>969</th>\n",
       "      <td>426067</td>\n",
       "      <td>Midnight Cabaret</td>\n",
       "      <td>0.001389</td>\n",
       "      <td>1990-01-01</td>\n",
       "      <td>The hot spot where Satan's waitin'.</td>\n",
       "    </tr>\n",
       "    <tr>\n",
       "      <th>3558</th>\n",
       "      <td>325140</td>\n",
       "      <td>Hum To Mohabbat Karega</td>\n",
       "      <td>0.001186</td>\n",
       "      <td>2000-05-26</td>\n",
       "      <td>NaN</td>\n",
       "    </tr>\n",
       "    <tr>\n",
       "      <th>1692</th>\n",
       "      <td>65448</td>\n",
       "      <td>Penitentiary</td>\n",
       "      <td>0.001117</td>\n",
       "      <td>1979-12-01</td>\n",
       "      <td>There's only one way out, and 100 fools stand ...</td>\n",
       "    </tr>\n",
       "    <tr>\n",
       "      <th>828</th>\n",
       "      <td>77156</td>\n",
       "      <td>Alien Zone</td>\n",
       "      <td>0.000372</td>\n",
       "      <td>1978-11-22</td>\n",
       "      <td>Don't you dare go in there!</td>\n",
       "    </tr>\n",
       "    <tr>\n",
       "      <th>2450</th>\n",
       "      <td>380097</td>\n",
       "      <td>America Is Still the Place</td>\n",
       "      <td>0.000000</td>\n",
       "      <td>NaN</td>\n",
       "      <td>NaN</td>\n",
       "    </tr>\n",
       "  </tbody>\n",
       "</table>\n",
       "<p>4803 rows × 5 columns</p>\n",
       "</div>"
      ],
      "text/plain": [
       "          id                       title  popularity release_date  \\\n",
       "4546  211672                     Minions  875.581305   2015-06-17   \n",
       "4343  157336                Interstellar  724.247784   2014-11-05   \n",
       "1966  293660                    Deadpool  514.569956   2016-02-09   \n",
       "2423  118340     Guardians of the Galaxy  481.098624   2014-07-30   \n",
       "4220   76341          Mad Max: Fury Road  434.278564   2015-05-13   \n",
       "...      ...                         ...         ...          ...   \n",
       "969   426067            Midnight Cabaret    0.001389   1990-01-01   \n",
       "3558  325140      Hum To Mohabbat Karega    0.001186   2000-05-26   \n",
       "1692   65448                Penitentiary    0.001117   1979-12-01   \n",
       "828    77156                  Alien Zone    0.000372   1978-11-22   \n",
       "2450  380097  America Is Still the Place    0.000000          NaN   \n",
       "\n",
       "                                                tagline  \n",
       "4546       Before Gru, they had a history of bad bosses  \n",
       "4343  Mankind was born on Earth. It was never meant ...  \n",
       "1966            Witness the beginning of a happy ending  \n",
       "2423                        All heroes start somewhere.  \n",
       "4220                                 What a Lovely Day.  \n",
       "...                                                 ...  \n",
       "969                 The hot spot where Satan's waitin'.  \n",
       "3558                                                NaN  \n",
       "1692  There's only one way out, and 100 fools stand ...  \n",
       "828                         Don't you dare go in there!  \n",
       "2450                                                NaN  \n",
       "\n",
       "[4803 rows x 5 columns]"
      ]
     },
     "execution_count": 22,
     "metadata": {},
     "output_type": "execute_result"
    }
   ],
   "source": [
    "movies_taglines.sort_values(by = \"popularity\", ascending= False)"
   ]
  },
  {
   "cell_type": "markdown",
   "id": "03867702",
   "metadata": {},
   "source": [
    "### Merging with Index"
   ]
  },
  {
   "cell_type": "code",
   "execution_count": 25,
   "id": "0222b716",
   "metadata": {},
   "outputs": [],
   "source": [
    "### set index of two tables tmdb_taglines and tmdb_movie to \"id\" before merging\n",
    "tmdb_movie.head()\n",
    "tmdb_movie.set_index(\"id\", inplace = True)"
   ]
  },
  {
   "cell_type": "code",
   "execution_count": 27,
   "id": "be677e2b",
   "metadata": {},
   "outputs": [],
   "source": [
    "movies_taglines.head()\n",
    "movies_taglines.set_index(\"id\", inplace = True)"
   ]
  },
  {
   "cell_type": "code",
   "execution_count": 28,
   "id": "afb8ee5d",
   "metadata": {},
   "outputs": [
    {
     "data": {
      "text/html": [
       "<div>\n",
       "<style scoped>\n",
       "    .dataframe tbody tr th:only-of-type {\n",
       "        vertical-align: middle;\n",
       "    }\n",
       "\n",
       "    .dataframe tbody tr th {\n",
       "        vertical-align: top;\n",
       "    }\n",
       "\n",
       "    .dataframe thead th {\n",
       "        text-align: right;\n",
       "    }\n",
       "</style>\n",
       "<table border=\"1\" class=\"dataframe\">\n",
       "  <thead>\n",
       "    <tr style=\"text-align: right;\">\n",
       "      <th></th>\n",
       "      <th>title</th>\n",
       "      <th>popularity</th>\n",
       "      <th>release_date</th>\n",
       "      <th>tagline</th>\n",
       "    </tr>\n",
       "    <tr>\n",
       "      <th>id</th>\n",
       "      <th></th>\n",
       "      <th></th>\n",
       "      <th></th>\n",
       "      <th></th>\n",
       "    </tr>\n",
       "  </thead>\n",
       "  <tbody>\n",
       "    <tr>\n",
       "      <th>257</th>\n",
       "      <td>Oliver Twist</td>\n",
       "      <td>20.415572</td>\n",
       "      <td>2005-09-23</td>\n",
       "      <td>NaN</td>\n",
       "    </tr>\n",
       "    <tr>\n",
       "      <th>14290</th>\n",
       "      <td>Better Luck Tomorrow</td>\n",
       "      <td>3.877036</td>\n",
       "      <td>2002-01-12</td>\n",
       "      <td>Never underestimate an overachiever.</td>\n",
       "    </tr>\n",
       "    <tr>\n",
       "      <th>38365</th>\n",
       "      <td>Grown Ups</td>\n",
       "      <td>38.864027</td>\n",
       "      <td>2010-06-24</td>\n",
       "      <td>Boys will be boys. . . some longer than others.</td>\n",
       "    </tr>\n",
       "    <tr>\n",
       "      <th>9672</th>\n",
       "      <td>Infamous</td>\n",
       "      <td>3.680896</td>\n",
       "      <td>2006-11-16</td>\n",
       "      <td>There's more to the story than you know</td>\n",
       "    </tr>\n",
       "    <tr>\n",
       "      <th>12819</th>\n",
       "      <td>Alpha and Omega</td>\n",
       "      <td>12.300789</td>\n",
       "      <td>2010-09-17</td>\n",
       "      <td>A Pawsome 3D Adventure</td>\n",
       "    </tr>\n",
       "  </tbody>\n",
       "</table>\n",
       "</div>"
      ],
      "text/plain": [
       "                      title  popularity release_date  \\\n",
       "id                                                     \n",
       "257            Oliver Twist   20.415572   2005-09-23   \n",
       "14290  Better Luck Tomorrow    3.877036   2002-01-12   \n",
       "38365             Grown Ups   38.864027   2010-06-24   \n",
       "9672               Infamous    3.680896   2006-11-16   \n",
       "12819       Alpha and Omega   12.300789   2010-09-17   \n",
       "\n",
       "                                               tagline  \n",
       "id                                                      \n",
       "257                                                NaN  \n",
       "14290             Never underestimate an overachiever.  \n",
       "38365  Boys will be boys. . . some longer than others.  \n",
       "9672           There's more to the story than you know  \n",
       "12819                           A Pawsome 3D Adventure  "
      ]
     },
     "execution_count": 28,
     "metadata": {},
     "output_type": "execute_result"
    }
   ],
   "source": [
    "movies_taglines.head()"
   ]
  },
  {
   "cell_type": "code",
   "execution_count": null,
   "id": "88bebcf9",
   "metadata": {},
   "outputs": [],
   "source": [
    "\n",
    "\n",
    "tmdb_taglines.set_index(\"id\", inplace = True)"
   ]
  },
  {
   "cell_type": "code",
   "execution_count": 30,
   "id": "e204e81c",
   "metadata": {},
   "outputs": [],
   "source": [
    "### merging with index\n",
    "movies_taglines_2 = tmdb_movie.merge(tmdb_taglines, how = \"left\", on = \"id\", suffixes = (\"_movies\", \"_taglines\"))"
   ]
  },
  {
   "cell_type": "code",
   "execution_count": 31,
   "id": "9419bd87",
   "metadata": {},
   "outputs": [
    {
     "data": {
      "text/html": [
       "<div>\n",
       "<style scoped>\n",
       "    .dataframe tbody tr th:only-of-type {\n",
       "        vertical-align: middle;\n",
       "    }\n",
       "\n",
       "    .dataframe tbody tr th {\n",
       "        vertical-align: top;\n",
       "    }\n",
       "\n",
       "    .dataframe thead th {\n",
       "        text-align: right;\n",
       "    }\n",
       "</style>\n",
       "<table border=\"1\" class=\"dataframe\">\n",
       "  <thead>\n",
       "    <tr style=\"text-align: right;\">\n",
       "      <th></th>\n",
       "      <th>title</th>\n",
       "      <th>popularity</th>\n",
       "      <th>release_date</th>\n",
       "      <th>tagline</th>\n",
       "    </tr>\n",
       "    <tr>\n",
       "      <th>id</th>\n",
       "      <th></th>\n",
       "      <th></th>\n",
       "      <th></th>\n",
       "      <th></th>\n",
       "    </tr>\n",
       "  </thead>\n",
       "  <tbody>\n",
       "    <tr>\n",
       "      <th>257</th>\n",
       "      <td>Oliver Twist</td>\n",
       "      <td>20.415572</td>\n",
       "      <td>2005-09-23</td>\n",
       "      <td>NaN</td>\n",
       "    </tr>\n",
       "    <tr>\n",
       "      <th>14290</th>\n",
       "      <td>Better Luck Tomorrow</td>\n",
       "      <td>3.877036</td>\n",
       "      <td>2002-01-12</td>\n",
       "      <td>Never underestimate an overachiever.</td>\n",
       "    </tr>\n",
       "    <tr>\n",
       "      <th>38365</th>\n",
       "      <td>Grown Ups</td>\n",
       "      <td>38.864027</td>\n",
       "      <td>2010-06-24</td>\n",
       "      <td>Boys will be boys. . . some longer than others.</td>\n",
       "    </tr>\n",
       "    <tr>\n",
       "      <th>9672</th>\n",
       "      <td>Infamous</td>\n",
       "      <td>3.680896</td>\n",
       "      <td>2006-11-16</td>\n",
       "      <td>There's more to the story than you know</td>\n",
       "    </tr>\n",
       "    <tr>\n",
       "      <th>12819</th>\n",
       "      <td>Alpha and Omega</td>\n",
       "      <td>12.300789</td>\n",
       "      <td>2010-09-17</td>\n",
       "      <td>A Pawsome 3D Adventure</td>\n",
       "    </tr>\n",
       "  </tbody>\n",
       "</table>\n",
       "</div>"
      ],
      "text/plain": [
       "                      title  popularity release_date  \\\n",
       "id                                                     \n",
       "257            Oliver Twist   20.415572   2005-09-23   \n",
       "14290  Better Luck Tomorrow    3.877036   2002-01-12   \n",
       "38365             Grown Ups   38.864027   2010-06-24   \n",
       "9672               Infamous    3.680896   2006-11-16   \n",
       "12819       Alpha and Omega   12.300789   2010-09-17   \n",
       "\n",
       "                                               tagline  \n",
       "id                                                      \n",
       "257                                                NaN  \n",
       "14290             Never underestimate an overachiever.  \n",
       "38365  Boys will be boys. . . some longer than others.  \n",
       "9672           There's more to the story than you know  \n",
       "12819                           A Pawsome 3D Adventure  "
      ]
     },
     "execution_count": 31,
     "metadata": {},
     "output_type": "execute_result"
    }
   ],
   "source": [
    "movies_taglines_2.head()"
   ]
  },
  {
   "cell_type": "markdown",
   "id": "02284abf",
   "metadata": {},
   "source": [
    "### Difference between semi join and inner join\n",
    "\n",
    "*inner join* :includes columns from both tables, and rows can be duplicated if one side has multiple matches (many-to-one or many-to-many)\n",
    "\n",
    "*semi-join*: includes only the left table's columns and no duplication from multiple matches, essentially acts like a filter (where exists)"
   ]
  },
  {
   "cell_type": "markdown",
   "id": "6b99cdcf",
   "metadata": {},
   "source": [
    "*Anti-join*:  return the left table as well, excluding the interaction (shared rows from both tables)"
   ]
  },
  {
   "cell_type": "markdown",
   "id": "454ff186",
   "metadata": {},
   "source": [
    "## Stacking Tables with pd.concat()"
   ]
  },
  {
   "cell_type": "code",
   "execution_count": 32,
   "id": "918ffa3e",
   "metadata": {},
   "outputs": [
    {
     "name": "stdout",
     "output_type": "stream",
     "text": [
      "Table 1:\n",
      "   CustomerID     Name    Purchase  Amount\n",
      "0         101    Alice      Laptop    1200\n",
      "1         102      Bob  Headphones     200\n",
      "2         103  Charlie    Keyboard     100 \n",
      "\n",
      "Table 2:\n",
      "   CustomerID   Name Purchase  Amount\n",
      "0         104  David    Mouse      50\n",
      "1         105    Eva  Monitor     300\n",
      "2         106  Frank  Printer     400\n"
     ]
    }
   ],
   "source": [
    "# Table 1: Sales data for January\n",
    "data1 = {\n",
    "    \"CustomerID\": [101, 102, 103],\n",
    "    \"Name\": [\"Alice\", \"Bob\", \"Charlie\"],\n",
    "    \"Purchase\": [\"Laptop\", \"Headphones\", \"Keyboard\"],\n",
    "    \"Amount\": [1200, 200, 100]\n",
    "}\n",
    "\n",
    "df1 = pd.DataFrame(data1)\n",
    "\n",
    "\n",
    "# Table 2: Sales data for February\n",
    "data2 = {\n",
    "    \"CustomerID\": [104, 105, 106],\n",
    "    \"Name\": [\"David\", \"Eva\", \"Frank\"],\n",
    "    \"Purchase\": [\"Mouse\", \"Monitor\", \"Printer\"],\n",
    "    \"Amount\": [50, 300, 400]\n",
    "}\n",
    "\n",
    "df2 = pd.DataFrame(data2)\n",
    "\n",
    "print(\"Table 1:\")\n",
    "print(df1, \"\\n\")\n",
    "\n",
    "print(\"Table 2:\")\n",
    "print(df2)"
   ]
  },
  {
   "cell_type": "code",
   "execution_count": 33,
   "id": "007b68fa",
   "metadata": {},
   "outputs": [],
   "source": [
    "## objs: a list or dict of pandas objects (Dataframes or series)\n",
    "new_combined_table = pd.concat([df1, df2], axis = 0)"
   ]
  },
  {
   "cell_type": "code",
   "execution_count": 34,
   "id": "1fa0bb3d",
   "metadata": {},
   "outputs": [
    {
     "data": {
      "text/html": [
       "<div>\n",
       "<style scoped>\n",
       "    .dataframe tbody tr th:only-of-type {\n",
       "        vertical-align: middle;\n",
       "    }\n",
       "\n",
       "    .dataframe tbody tr th {\n",
       "        vertical-align: top;\n",
       "    }\n",
       "\n",
       "    .dataframe thead th {\n",
       "        text-align: right;\n",
       "    }\n",
       "</style>\n",
       "<table border=\"1\" class=\"dataframe\">\n",
       "  <thead>\n",
       "    <tr style=\"text-align: right;\">\n",
       "      <th></th>\n",
       "      <th>CustomerID</th>\n",
       "      <th>Name</th>\n",
       "      <th>Purchase</th>\n",
       "      <th>Amount</th>\n",
       "    </tr>\n",
       "  </thead>\n",
       "  <tbody>\n",
       "    <tr>\n",
       "      <th>0</th>\n",
       "      <td>101</td>\n",
       "      <td>Alice</td>\n",
       "      <td>Laptop</td>\n",
       "      <td>1200</td>\n",
       "    </tr>\n",
       "    <tr>\n",
       "      <th>1</th>\n",
       "      <td>102</td>\n",
       "      <td>Bob</td>\n",
       "      <td>Headphones</td>\n",
       "      <td>200</td>\n",
       "    </tr>\n",
       "    <tr>\n",
       "      <th>2</th>\n",
       "      <td>103</td>\n",
       "      <td>Charlie</td>\n",
       "      <td>Keyboard</td>\n",
       "      <td>100</td>\n",
       "    </tr>\n",
       "    <tr>\n",
       "      <th>0</th>\n",
       "      <td>104</td>\n",
       "      <td>David</td>\n",
       "      <td>Mouse</td>\n",
       "      <td>50</td>\n",
       "    </tr>\n",
       "    <tr>\n",
       "      <th>1</th>\n",
       "      <td>105</td>\n",
       "      <td>Eva</td>\n",
       "      <td>Monitor</td>\n",
       "      <td>300</td>\n",
       "    </tr>\n",
       "  </tbody>\n",
       "</table>\n",
       "</div>"
      ],
      "text/plain": [
       "   CustomerID     Name    Purchase  Amount\n",
       "0         101    Alice      Laptop    1200\n",
       "1         102      Bob  Headphones     200\n",
       "2         103  Charlie    Keyboard     100\n",
       "0         104    David       Mouse      50\n",
       "1         105      Eva     Monitor     300"
      ]
     },
     "execution_count": 34,
     "metadata": {},
     "output_type": "execute_result"
    }
   ],
   "source": [
    "new_combined_table.head()"
   ]
  },
  {
   "cell_type": "markdown",
   "id": "55a224da",
   "metadata": {},
   "source": [
    "There are few other types of merge such as\n",
    "\n",
    "pd.merge_ordered()\n",
    "\n",
    "pd.merge_asof()\n"
   ]
  },
  {
   "cell_type": "markdown",
   "id": "b6a720c4",
   "metadata": {},
   "source": [
    "### DataFrame.query('Statement')"
   ]
  },
  {
   "cell_type": "code",
   "execution_count": 35,
   "id": "9b9dca94",
   "metadata": {},
   "outputs": [
    {
     "data": {
      "text/html": [
       "<div>\n",
       "<style scoped>\n",
       "    .dataframe tbody tr th:only-of-type {\n",
       "        vertical-align: middle;\n",
       "    }\n",
       "\n",
       "    .dataframe tbody tr th {\n",
       "        vertical-align: top;\n",
       "    }\n",
       "\n",
       "    .dataframe thead th {\n",
       "        text-align: right;\n",
       "    }\n",
       "</style>\n",
       "<table border=\"1\" class=\"dataframe\">\n",
       "  <thead>\n",
       "    <tr style=\"text-align: right;\">\n",
       "      <th></th>\n",
       "      <th>CustomerID</th>\n",
       "      <th>Name</th>\n",
       "      <th>Purchase</th>\n",
       "      <th>Amount</th>\n",
       "    </tr>\n",
       "  </thead>\n",
       "  <tbody>\n",
       "    <tr>\n",
       "      <th>1</th>\n",
       "      <td>102</td>\n",
       "      <td>Bob</td>\n",
       "      <td>Headphones</td>\n",
       "      <td>200</td>\n",
       "    </tr>\n",
       "    <tr>\n",
       "      <th>2</th>\n",
       "      <td>103</td>\n",
       "      <td>Charlie</td>\n",
       "      <td>Keyboard</td>\n",
       "      <td>100</td>\n",
       "    </tr>\n",
       "    <tr>\n",
       "      <th>0</th>\n",
       "      <td>104</td>\n",
       "      <td>David</td>\n",
       "      <td>Mouse</td>\n",
       "      <td>50</td>\n",
       "    </tr>\n",
       "    <tr>\n",
       "      <th>1</th>\n",
       "      <td>105</td>\n",
       "      <td>Eva</td>\n",
       "      <td>Monitor</td>\n",
       "      <td>300</td>\n",
       "    </tr>\n",
       "    <tr>\n",
       "      <th>2</th>\n",
       "      <td>106</td>\n",
       "      <td>Frank</td>\n",
       "      <td>Printer</td>\n",
       "      <td>400</td>\n",
       "    </tr>\n",
       "  </tbody>\n",
       "</table>\n",
       "</div>"
      ],
      "text/plain": [
       "   CustomerID     Name    Purchase  Amount\n",
       "1         102      Bob  Headphones     200\n",
       "2         103  Charlie    Keyboard     100\n",
       "0         104    David       Mouse      50\n",
       "1         105      Eva     Monitor     300\n",
       "2         106    Frank     Printer     400"
      ]
     },
     "execution_count": 35,
     "metadata": {},
     "output_type": "execute_result"
    }
   ],
   "source": [
    "new_combined_table.query('Amount <=1000')"
   ]
  },
  {
   "cell_type": "markdown",
   "id": "71541e1f",
   "metadata": {},
   "source": [
    "## Unpivot table with DataFrame.melt()"
   ]
  },
  {
   "cell_type": "code",
   "execution_count": 37,
   "id": "aece46c3",
   "metadata": {},
   "outputs": [
    {
     "name": "stdout",
     "output_type": "stream",
     "text": [
      "Original DataFrame:\n",
      "    Student  Math  Science  History\n",
      "0    Alice    85       90       70\n",
      "1      Bob    92       88       95\n",
      "2  Charlie    78       82       80\n"
     ]
    }
   ],
   "source": [
    "\n",
    "# Create sample wide-format dataframe\n",
    "data = {\n",
    "    \"Student\": [\"Alice\", \"Bob\", \"Charlie\"],\n",
    "    \"Math\": [85, 92, 78],\n",
    "    \"Science\": [90, 88, 82],\n",
    "    \"History\": [70, 95, 80]\n",
    "}\n",
    "\n",
    "df_pivot = pd.DataFrame(data)\n",
    "print(\"Original DataFrame:\\n\", df_pivot)\n"
   ]
  },
  {
   "cell_type": "markdown",
   "id": "05477075",
   "metadata": {},
   "source": []
  },
  {
   "cell_type": "code",
   "execution_count": 39,
   "id": "4cd38f27",
   "metadata": {},
   "outputs": [],
   "source": [
    "df_unpivot = df_pivot.melt(id_vars = [\"Student\"], value_vars= [\"Math\", \"Science\", \"History\"], var_name = \"Subject\", value_name = \"Score\")"
   ]
  },
  {
   "cell_type": "code",
   "execution_count": 40,
   "id": "d906f626",
   "metadata": {},
   "outputs": [
    {
     "data": {
      "text/html": [
       "<div>\n",
       "<style scoped>\n",
       "    .dataframe tbody tr th:only-of-type {\n",
       "        vertical-align: middle;\n",
       "    }\n",
       "\n",
       "    .dataframe tbody tr th {\n",
       "        vertical-align: top;\n",
       "    }\n",
       "\n",
       "    .dataframe thead th {\n",
       "        text-align: right;\n",
       "    }\n",
       "</style>\n",
       "<table border=\"1\" class=\"dataframe\">\n",
       "  <thead>\n",
       "    <tr style=\"text-align: right;\">\n",
       "      <th></th>\n",
       "      <th>Student</th>\n",
       "      <th>Subject</th>\n",
       "      <th>Score</th>\n",
       "    </tr>\n",
       "  </thead>\n",
       "  <tbody>\n",
       "    <tr>\n",
       "      <th>0</th>\n",
       "      <td>Alice</td>\n",
       "      <td>Math</td>\n",
       "      <td>85</td>\n",
       "    </tr>\n",
       "    <tr>\n",
       "      <th>1</th>\n",
       "      <td>Bob</td>\n",
       "      <td>Math</td>\n",
       "      <td>92</td>\n",
       "    </tr>\n",
       "    <tr>\n",
       "      <th>2</th>\n",
       "      <td>Charlie</td>\n",
       "      <td>Math</td>\n",
       "      <td>78</td>\n",
       "    </tr>\n",
       "    <tr>\n",
       "      <th>3</th>\n",
       "      <td>Alice</td>\n",
       "      <td>Science</td>\n",
       "      <td>90</td>\n",
       "    </tr>\n",
       "    <tr>\n",
       "      <th>4</th>\n",
       "      <td>Bob</td>\n",
       "      <td>Science</td>\n",
       "      <td>88</td>\n",
       "    </tr>\n",
       "    <tr>\n",
       "      <th>5</th>\n",
       "      <td>Charlie</td>\n",
       "      <td>Science</td>\n",
       "      <td>82</td>\n",
       "    </tr>\n",
       "    <tr>\n",
       "      <th>6</th>\n",
       "      <td>Alice</td>\n",
       "      <td>History</td>\n",
       "      <td>70</td>\n",
       "    </tr>\n",
       "    <tr>\n",
       "      <th>7</th>\n",
       "      <td>Bob</td>\n",
       "      <td>History</td>\n",
       "      <td>95</td>\n",
       "    </tr>\n",
       "    <tr>\n",
       "      <th>8</th>\n",
       "      <td>Charlie</td>\n",
       "      <td>History</td>\n",
       "      <td>80</td>\n",
       "    </tr>\n",
       "  </tbody>\n",
       "</table>\n",
       "</div>"
      ],
      "text/plain": [
       "   Student  Subject  Score\n",
       "0    Alice     Math     85\n",
       "1      Bob     Math     92\n",
       "2  Charlie     Math     78\n",
       "3    Alice  Science     90\n",
       "4      Bob  Science     88\n",
       "5  Charlie  Science     82\n",
       "6    Alice  History     70\n",
       "7      Bob  History     95\n",
       "8  Charlie  History     80"
      ]
     },
     "execution_count": 40,
     "metadata": {},
     "output_type": "execute_result"
    }
   ],
   "source": [
    "df_unpivot"
   ]
  }
 ],
 "metadata": {
  "kernelspec": {
   "display_name": ".venv",
   "language": "python",
   "name": "python3"
  },
  "language_info": {
   "codemirror_mode": {
    "name": "ipython",
    "version": 3
   },
   "file_extension": ".py",
   "mimetype": "text/x-python",
   "name": "python",
   "nbconvert_exporter": "python",
   "pygments_lexer": "ipython3",
   "version": "3.11.9"
  }
 },
 "nbformat": 4,
 "nbformat_minor": 5
}
