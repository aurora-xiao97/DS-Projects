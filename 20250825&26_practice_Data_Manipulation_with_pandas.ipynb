{
 "cells": [
  {
   "cell_type": "markdown",
   "id": "f28f5e39",
   "metadata": {},
   "source": [
    "## Practice Datacamp: Data Manipulation with pandas"
   ]
  },
  {
   "cell_type": "markdown",
   "id": "8588aa71",
   "metadata": {},
   "source": [
    "## Practice August 25 & 26th Python"
   ]
  },
  {
   "cell_type": "markdown",
   "id": "1a06c85e",
   "metadata": {},
   "source": [
    "### Loading packages"
   ]
  },
  {
   "cell_type": "code",
   "execution_count": 1,
   "id": "cd4a0190",
   "metadata": {},
   "outputs": [],
   "source": [
    "### importing packages\n",
    "import pandas as pd\n",
    "import numpy as np\n",
    "import matplotlib.pyplot as plt"
   ]
  },
  {
   "cell_type": "markdown",
   "id": "a99040b3",
   "metadata": {},
   "source": []
  },
  {
   "cell_type": "markdown",
   "id": "9dcc83fe",
   "metadata": {},
   "source": [
    "### Import Data - Netflix Data"
   ]
  },
  {
   "cell_type": "code",
   "execution_count": 5,
   "id": "8cf24938",
   "metadata": {},
   "outputs": [],
   "source": [
    "netflix_data = pd.read_csv(\"/Users/auroraxiao/Desktop/Data Science Project/Data/netflix_data.csv\")"
   ]
  },
  {
   "cell_type": "code",
   "execution_count": 6,
   "id": "ee77abf7",
   "metadata": {},
   "outputs": [
    {
     "data": {
      "text/html": [
       "<div>\n",
       "<style scoped>\n",
       "    .dataframe tbody tr th:only-of-type {\n",
       "        vertical-align: middle;\n",
       "    }\n",
       "\n",
       "    .dataframe tbody tr th {\n",
       "        vertical-align: top;\n",
       "    }\n",
       "\n",
       "    .dataframe thead th {\n",
       "        text-align: right;\n",
       "    }\n",
       "</style>\n",
       "<table border=\"1\" class=\"dataframe\">\n",
       "  <thead>\n",
       "    <tr style=\"text-align: right;\">\n",
       "      <th></th>\n",
       "      <th>show_id</th>\n",
       "      <th>type</th>\n",
       "      <th>title</th>\n",
       "      <th>director</th>\n",
       "      <th>cast</th>\n",
       "      <th>country</th>\n",
       "      <th>date_added</th>\n",
       "      <th>release_year</th>\n",
       "      <th>duration</th>\n",
       "      <th>description</th>\n",
       "      <th>genre</th>\n",
       "    </tr>\n",
       "  </thead>\n",
       "  <tbody>\n",
       "    <tr>\n",
       "      <th>0</th>\n",
       "      <td>s2</td>\n",
       "      <td>Movie</td>\n",
       "      <td>7:19</td>\n",
       "      <td>Jorge Michel Grau</td>\n",
       "      <td>Demián Bichir, Héctor Bonilla, Oscar Serrano, ...</td>\n",
       "      <td>Mexico</td>\n",
       "      <td>December 23, 2016</td>\n",
       "      <td>2016</td>\n",
       "      <td>93</td>\n",
       "      <td>After a devastating earthquake hits Mexico Cit...</td>\n",
       "      <td>Dramas</td>\n",
       "    </tr>\n",
       "    <tr>\n",
       "      <th>1</th>\n",
       "      <td>s3</td>\n",
       "      <td>Movie</td>\n",
       "      <td>23:59</td>\n",
       "      <td>Gilbert Chan</td>\n",
       "      <td>Tedd Chan, Stella Chung, Henley Hii, Lawrence ...</td>\n",
       "      <td>Singapore</td>\n",
       "      <td>December 20, 2018</td>\n",
       "      <td>2011</td>\n",
       "      <td>78</td>\n",
       "      <td>When an army recruit is found dead, his fellow...</td>\n",
       "      <td>Horror Movies</td>\n",
       "    </tr>\n",
       "    <tr>\n",
       "      <th>2</th>\n",
       "      <td>s4</td>\n",
       "      <td>Movie</td>\n",
       "      <td>9</td>\n",
       "      <td>Shane Acker</td>\n",
       "      <td>Elijah Wood, John C. Reilly, Jennifer Connelly...</td>\n",
       "      <td>United States</td>\n",
       "      <td>November 16, 2017</td>\n",
       "      <td>2009</td>\n",
       "      <td>80</td>\n",
       "      <td>In a postapocalyptic world, rag-doll robots hi...</td>\n",
       "      <td>Action</td>\n",
       "    </tr>\n",
       "    <tr>\n",
       "      <th>3</th>\n",
       "      <td>s5</td>\n",
       "      <td>Movie</td>\n",
       "      <td>21</td>\n",
       "      <td>Robert Luketic</td>\n",
       "      <td>Jim Sturgess, Kevin Spacey, Kate Bosworth, Aar...</td>\n",
       "      <td>United States</td>\n",
       "      <td>January 1, 2020</td>\n",
       "      <td>2008</td>\n",
       "      <td>123</td>\n",
       "      <td>A brilliant group of students become card-coun...</td>\n",
       "      <td>Dramas</td>\n",
       "    </tr>\n",
       "    <tr>\n",
       "      <th>4</th>\n",
       "      <td>s6</td>\n",
       "      <td>TV Show</td>\n",
       "      <td>46</td>\n",
       "      <td>Serdar Akar</td>\n",
       "      <td>Erdal Beşikçioğlu, Yasemin Allen, Melis Birkan...</td>\n",
       "      <td>Turkey</td>\n",
       "      <td>July 1, 2017</td>\n",
       "      <td>2016</td>\n",
       "      <td>1</td>\n",
       "      <td>A genetics professor experiments with a treatm...</td>\n",
       "      <td>International TV</td>\n",
       "    </tr>\n",
       "  </tbody>\n",
       "</table>\n",
       "</div>"
      ],
      "text/plain": [
       "  show_id     type  title           director  \\\n",
       "0      s2    Movie   7:19  Jorge Michel Grau   \n",
       "1      s3    Movie  23:59       Gilbert Chan   \n",
       "2      s4    Movie      9        Shane Acker   \n",
       "3      s5    Movie     21     Robert Luketic   \n",
       "4      s6  TV Show     46        Serdar Akar   \n",
       "\n",
       "                                                cast        country  \\\n",
       "0  Demián Bichir, Héctor Bonilla, Oscar Serrano, ...         Mexico   \n",
       "1  Tedd Chan, Stella Chung, Henley Hii, Lawrence ...      Singapore   \n",
       "2  Elijah Wood, John C. Reilly, Jennifer Connelly...  United States   \n",
       "3  Jim Sturgess, Kevin Spacey, Kate Bosworth, Aar...  United States   \n",
       "4  Erdal Beşikçioğlu, Yasemin Allen, Melis Birkan...         Turkey   \n",
       "\n",
       "          date_added  release_year  duration  \\\n",
       "0  December 23, 2016          2016        93   \n",
       "1  December 20, 2018          2011        78   \n",
       "2  November 16, 2017          2009        80   \n",
       "3    January 1, 2020          2008       123   \n",
       "4       July 1, 2017          2016         1   \n",
       "\n",
       "                                         description             genre  \n",
       "0  After a devastating earthquake hits Mexico Cit...            Dramas  \n",
       "1  When an army recruit is found dead, his fellow...     Horror Movies  \n",
       "2  In a postapocalyptic world, rag-doll robots hi...            Action  \n",
       "3  A brilliant group of students become card-coun...            Dramas  \n",
       "4  A genetics professor experiments with a treatm...  International TV  "
      ]
     },
     "execution_count": 6,
     "metadata": {},
     "output_type": "execute_result"
    }
   ],
   "source": [
    "netflix_data.head()"
   ]
  },
  {
   "cell_type": "markdown",
   "id": "9be600e9",
   "metadata": {},
   "source": [
    "### Detecting Missing Values"
   ]
  },
  {
   "cell_type": "code",
   "execution_count": 8,
   "id": "41787c56",
   "metadata": {},
   "outputs": [
    {
     "data": {
      "text/plain": [
       "show_id         0\n",
       "type            0\n",
       "title           0\n",
       "director        0\n",
       "cast            0\n",
       "country         0\n",
       "date_added      0\n",
       "release_year    0\n",
       "duration        0\n",
       "description     0\n",
       "genre           0\n",
       "dtype: int64"
      ]
     },
     "execution_count": 8,
     "metadata": {},
     "output_type": "execute_result"
    }
   ],
   "source": [
    "netflix_data.isna().sum()"
   ]
  },
  {
   "cell_type": "code",
   "execution_count": 9,
   "id": "06a004ea",
   "metadata": {},
   "outputs": [
    {
     "data": {
      "text/plain": [
       "show_id         False\n",
       "type            False\n",
       "title           False\n",
       "director        False\n",
       "cast            False\n",
       "country         False\n",
       "date_added      False\n",
       "release_year    False\n",
       "duration        False\n",
       "description     False\n",
       "genre           False\n",
       "dtype: bool"
      ]
     },
     "execution_count": 9,
     "metadata": {},
     "output_type": "execute_result"
    }
   ],
   "source": [
    "netflix_data.isna().any()"
   ]
  },
  {
   "cell_type": "code",
   "execution_count": 12,
   "id": "d6ab5220",
   "metadata": {},
   "outputs": [
    {
     "data": {
      "image/png": "[encoded data removed]",
      "text/plain": [
       "<Figure size 640x480 with 1 Axes>"
      ]
     },
     "metadata": {},
     "output_type": "display_data"
    }
   ],
   "source": [
    "### Ploating missing values\n",
    "is_na = netflix_data.isna().sum()\n",
    "is_na.plot(kind = 'bar')\n",
    "plt.show()"
   ]
  },
  {
   "cell_type": "markdown",
   "id": "571e6dce",
   "metadata": {},
   "source": [
    "### If there is any missing values\n",
    "what I could do is to run\n",
    "\n",
    "df.dropna()\n"
   ]
  },
  {
   "cell_type": "markdown",
   "id": "d1886211",
   "metadata": {},
   "source": [
    "### Ways to fill missing values"
   ]
  },
  {
   "cell_type": "code",
   "execution_count": 14,
   "id": "07cd3d9e",
   "metadata": {},
   "outputs": [
    {
     "data": {
      "text/plain": [
       "show_id         0\n",
       "type            0\n",
       "title           0\n",
       "director        0\n",
       "cast            0\n",
       "country         0\n",
       "date_added      0\n",
       "release_year    0\n",
       "duration        0\n",
       "description     0\n",
       "genre           0\n",
       "dtype: int64"
      ]
     },
     "execution_count": 14,
     "metadata": {},
     "output_type": "execute_result"
    }
   ],
   "source": [
    "netflix_data.isna().sum()"
   ]
  },
  {
   "cell_type": "markdown",
   "id": "cfa88e49",
   "metadata": {},
   "source": [
    "### since there are no missing values in this dataset, i won't need to fill or drop any missing values\n",
    "if needed, there are many ways to fill missing values \n",
    "with\n",
    "- df.fillna(0) fill with constant value like 0\n",
    "- df['col'].fillna(df['col'].mean())\n",
    "- df['col'].fillna(df['col'].median())\n",
    "- df['col'].interpolation(method = 'linear')\n",
    "- df['col'].ffill()\n",
    "- df['col'].bfill()\n",
    "\n"
   ]
  },
  {
   "cell_type": "markdown",
   "id": "10e3827f",
   "metadata": {},
   "source": []
  }
 ],
 "metadata": {
  "kernelspec": {
   "display_name": ".venv",
   "language": "python",
   "name": "python3"
  },
  "language_info": {
   "codemirror_mode": {
    "name": "ipython",
    "version": 3
   },
   "file_extension": ".py",
   "mimetype": "text/x-python",
   "name": "python",
   "nbconvert_exporter": "python",
   "pygments_lexer": "ipython3",
   "version": "3.11.9"
  }
 },
 "nbformat": 4,
 "nbformat_minor": 5
}
